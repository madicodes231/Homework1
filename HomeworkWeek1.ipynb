{
  "nbformat": 4,
  "nbformat_minor": 0,
  "metadata": {
    "colab": {
      "provenance": [],
      "authorship_tag": "ABX9TyPYZNHQUUdUHt0+kxlXEnQ6",
      "include_colab_link": true
    },
    "kernelspec": {
      "name": "python3",
      "display_name": "Python 3"
    },
    "language_info": {
      "name": "python"
    }
  },
  "cells": [
    {
      "cell_type": "markdown",
      "metadata": {
        "id": "view-in-github",
        "colab_type": "text"
      },
      "source": [
        "<a href=\"https://colab.research.google.com/github/madicodes231/Homework1/blob/main/HomeworkWeek1.ipynb\" target=\"_parent\"><img src=\"https://colab.research.google.com/assets/colab-badge.svg\" alt=\"Open In Colab\"/></a>"
      ]
    },
    {
      "cell_type": "markdown",
      "source": [
        "***Load the dataset into a pandas DataFrame. Load diamonds.csv from a GitHub (or other URL link) into your Colab notebook directly without downloading it to your local computer or uploading it to the notebook temporarily***"
      ],
      "metadata": {
        "id": "5nEJXSyN1lpH"
      }
    },
    {
      "cell_type": "code",
      "source": [
        "import pandas as pd\n",
        "import io\n",
        "\n",
        "url = 'https://raw.githubusercontent.com/madicodes231/Homework1/main/diamonds.csv'\n",
        "df = pd.read_csv(url)\n",
        "df.index = df.index + 1\n",
        "df.drop(df.filter(regex=\"Unnamed\"),axis=1, inplace=True)\n",
        "print(df)"
      ],
      "metadata": {
        "id": "MWu7-xKv4U_h"
      },
      "execution_count": null,
      "outputs": []
    },
    {
      "cell_type": "markdown",
      "source": [
        "***Display the first seven rows of the DataFrame.***"
      ],
      "metadata": {
        "id": "48dNCiiI1Z1P"
      }
    },
    {
      "cell_type": "code",
      "source": [
        "df.drop(df.filter(regex=\"Unnamed\"),axis=1, inplace=True)\n",
        "df.head(7)"
      ],
      "metadata": {
        "id": "ByFJme5F6qWA"
      },
      "execution_count": null,
      "outputs": []
    },
    {
      "cell_type": "markdown",
      "source": [
        "***Display the last seven rows of the DataFrame.***\n",
        "\n"
      ],
      "metadata": {
        "id": "YSsy3lIM15Z9"
      }
    },
    {
      "cell_type": "code",
      "source": [
        "df.drop(df.filter(regex=\"Unnamed\"),axis=1, inplace=True)\n",
        "df.tail(7)"
      ],
      "metadata": {
        "id": "qcPuXU_x68IP"
      },
      "execution_count": null,
      "outputs": []
    },
    {
      "cell_type": "markdown",
      "source": [
        "***Use the DataFrame method describe (which looks only at the numerical columns) to calculate the descriptive statistics for the numerical columns—carat, depth, table, price, x, y and z."
      ],
      "metadata": {
        "id": "gCqODQc-18rN"
      }
    },
    {
      "cell_type": "code",
      "source": [
        "df.drop(df.filter(regex=\"Unnamed\"),axis=1, inplace=True)\n",
        "df.describe()"
      ],
      "metadata": {
        "id": "tm6flHpA7CxX"
      },
      "execution_count": null,
      "outputs": []
    },
    {
      "cell_type": "markdown",
      "source": [
        "***Use Series method describe to calculate the descriptive statistics for the categorical data (text) columns—cut, color and clarity.***"
      ],
      "metadata": {
        "id": "N0B-hN6X2EEl"
      }
    },
    {
      "cell_type": "code",
      "source": [
        "\n",
        "cut = pd.Series(df['cut'])\n",
        "\n",
        "\n",
        "cut.describe()"
      ],
      "metadata": {
        "id": "N4ZSKjKI7KZm"
      },
      "execution_count": null,
      "outputs": []
    },
    {
      "cell_type": "code",
      "source": [
        "color = pd.Series(df['color'])\n",
        "\n",
        "color.describe()\n"
      ],
      "metadata": {
        "id": "u9hJAetj7j0P"
      },
      "execution_count": null,
      "outputs": []
    },
    {
      "cell_type": "code",
      "source": [
        "\n",
        "clarity = pd.Series(df['clarity'])\n",
        "\n",
        "clarity.describe()\n",
        "\n",
        ""
      ],
      "metadata": {
        "id": "i2fPpaTo7ov3"
      },
      "execution_count": null,
      "outputs": []
    },
    {
      "cell_type": "markdown",
      "source": [
        "***What are the unique category values (use the Series method unique)?***"
      ],
      "metadata": {
        "id": "KiJQDs2a2LQ1"
      }
    },
    {
      "cell_type": "code",
      "source": [
        "color.unique()\n"
      ],
      "metadata": {
        "id": "Dls_Nq7K77F3"
      },
      "execution_count": null,
      "outputs": []
    },
    {
      "cell_type": "code",
      "source": [
        "\n",
        "cut.unique()\n"
      ],
      "metadata": {
        "id": "FMD8Ul1r797G"
      },
      "execution_count": null,
      "outputs": []
    },
    {
      "cell_type": "code",
      "source": [
        "\n",
        "clarity.unique()"
      ],
      "metadata": {
        "id": "pdjMwYk48CZu"
      },
      "execution_count": null,
      "outputs": []
    },
    {
      "cell_type": "markdown",
      "source": [
        "***Execute the %matplotlib magic to enable Matplotlib support in IPython. Then, to view histograms of each numerical data column, call your DataFrame’s hist method.***"
      ],
      "metadata": {
        "id": "3OuFhGTm2WpF"
      }
    },
    {
      "cell_type": "code",
      "source": [
        "%matplotlib inline\n",
        "\n",
        "\n"
      ],
      "metadata": {
        "id": "UMGEX0CV97xe"
      },
      "execution_count": 45,
      "outputs": []
    },
    {
      "cell_type": "code",
      "source": [
        "\n",
        "\n",
        "df.hist(figsize=(12, 10), layout=(4,2))\n",
        "df.drop(df.filter(regex=\"Unnamed\"),axis=1, inplace=True)"
      ],
      "metadata": {
        "id": "VhuBNv-SEDDd"
      },
      "execution_count": null,
      "outputs": []
    }
  ]
}