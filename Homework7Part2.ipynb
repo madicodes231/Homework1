{
  "cells": [
    {
      "cell_type": "markdown",
      "metadata": {
        "id": "view-in-github",
        "colab_type": "text"
      },
      "source": [
        "<a href=\"https://colab.research.google.com/github/madicodes231/Homework1/blob/main/Homework7Part2.ipynb\" target=\"_parent\"><img src=\"https://colab.research.google.com/assets/colab-badge.svg\" alt=\"Open In Colab\"/></a>"
      ]
    },
    {
      "cell_type": "markdown",
      "metadata": {
        "id": "jKI_epRWDe_p"
      },
      "source": [
        "**Remove the first Dense layer in this chapter’s convnet model. How does this change the prediction accuracy? Add such a layer before the two Dense layers in this chapter’s convnet model. How does this change the prediction accuracy?**\n",
        "\n",
        "\n",
        "Removing the first dense layer slightly decreases the prediction accuracy (less than 1%). While adding a layer with 4096 neurons slightly increased the prediction accuracy while increasing the training time (hence slowing down the speed)."
      ]
    },
    {
      "cell_type": "markdown",
      "metadata": {
        "id": "Flz60wHFDe_w"
      },
      "source": [
        "# 16.6 Convolutional Neural Networks for Vision; Multi-Classification with the MNIST Dataset (cont.)\n",
        "* **60,000** labeled digit image samples for **training**, **10,000** for testing\n",
        "* **28-by-28 pixel images** (**784 features**), represented as **NumPy arrays**\n",
        "* **Grayscale pixel intensity** (shade) values **0-255**\n",
        "* **Convnet** will perform [**probabilistic classification**](https://en.wikipedia.org/wiki/Probabilistic_classification)\n",
        "\t* Model will output **10 probabilities** indicating likelihood a digit is **0-9**\n",
        "\t* **Highest probability** is the **predicted value**"
      ]
    },
    {
      "cell_type": "markdown",
      "metadata": {
        "id": "Om3cC71WDe_w"
      },
      "source": [
        "### Reproducibility in Keras and Deep Learning\n",
        "* **Reproducibility is difficult** because the libraries **heavily parallelize floating-point calculations**\n",
        "* Each time calculations execute, they may execute in a **different order**\n",
        "* Can produce **different results** in each execution\n",
        "* See the [**Keras FAQ on reproducibility**](https://keras.io/getting-started/faq/#how-can-i-obtain-reproducible-results-using-keras-during-development)"
      ]
    },
    {
      "cell_type": "markdown",
      "metadata": {
        "id": "9gsnUOEiDe_w"
      },
      "source": [
        "### Building a Keras Neural Network\n",
        "* **Network** (also called a **model**)\n",
        "    * Sequence of layers containing the neurons used to learn from the samples\n",
        "    * Each layer’s neurons receive inputs, process them (via an **activation function**) and produce outputs\n",
        "    * The more layers you **stack**, the **deeper** the network is, hence the term **deep learning**\n",
        "* **Loss function**\n",
        "    * Produces a measure of **how well the network predicts target values**\n",
        "    * **Lower loss values** indicate **better predictions**\n",
        "* **Optimizer**\n",
        "    * Attempts to **minimize the values produced by the loss function** to **tune the network** to make better predictions"
      ]
    },
    {
      "cell_type": "markdown",
      "metadata": {
        "id": "IbFtyLuwDe_w"
      },
      "source": [
        "### Launch JupyterLab\n",
        "* Activate your `tf_env` Anaconda environment\n",
        "* Launch JupyterLab from the `ch15` examples folder"
      ]
    },
    {
      "cell_type": "markdown",
      "metadata": {
        "id": "sA2P3ZbKDe_x"
      },
      "source": [
        "## 16.6.1 Loading the MNIST Dataset"
      ]
    },
    {
      "cell_type": "code",
      "execution_count": 106,
      "metadata": {
        "id": "Z37trCSzDe_x"
      },
      "outputs": [],
      "source": [
        "from tensorflow.keras.datasets import mnist"
      ]
    },
    {
      "cell_type": "markdown",
      "metadata": {
        "id": "N-E8QNhsDe_x"
      },
      "source": [
        "* **`load_data` function** loads **training** and **testing sets**"
      ]
    },
    {
      "cell_type": "code",
      "execution_count": 107,
      "metadata": {
        "id": "PITsCWR6De_x"
      },
      "outputs": [],
      "source": [
        "(X_train, y_train), (X_test, y_test) = mnist.load_data()"
      ]
    },
    {
      "cell_type": "markdown",
      "metadata": {
        "id": "WNYQIYuUDe_x"
      },
      "source": [
        "## 16.6.2 Data Exploration\n",
        "* Check dimensions of the **training set images (`X_train`)**, **training set labels (`y_train`)**, **testing set images (`X_test`)** and **testing set labels (`y_test`)**:"
      ]
    },
    {
      "cell_type": "code",
      "execution_count": 108,
      "metadata": {
        "colab": {
          "base_uri": "https://localhost:8080/"
        },
        "id": "MCCA7Cg8De_x",
        "outputId": "725b9d48-cea4-4a30-bcca-81d07c3ffc6a"
      },
      "outputs": [
        {
          "output_type": "execute_result",
          "data": {
            "text/plain": [
              "(60000, 28, 28)"
            ]
          },
          "metadata": {},
          "execution_count": 108
        }
      ],
      "source": [
        "X_train.shape"
      ]
    },
    {
      "cell_type": "code",
      "execution_count": 109,
      "metadata": {
        "colab": {
          "base_uri": "https://localhost:8080/"
        },
        "id": "IEKOdQdrDe_y",
        "outputId": "4ef8e715-2775-445f-bbb8-beba3c78947d"
      },
      "outputs": [
        {
          "output_type": "execute_result",
          "data": {
            "text/plain": [
              "(60000,)"
            ]
          },
          "metadata": {},
          "execution_count": 109
        }
      ],
      "source": [
        "y_train.shape"
      ]
    },
    {
      "cell_type": "code",
      "execution_count": 110,
      "metadata": {
        "colab": {
          "base_uri": "https://localhost:8080/"
        },
        "id": "hHEDuJ78De_y",
        "outputId": "7a259a8b-0125-40a7-d49a-3ed8a7277181"
      },
      "outputs": [
        {
          "output_type": "execute_result",
          "data": {
            "text/plain": [
              "(10000, 28, 28)"
            ]
          },
          "metadata": {},
          "execution_count": 110
        }
      ],
      "source": [
        "X_test.shape"
      ]
    },
    {
      "cell_type": "code",
      "execution_count": 111,
      "metadata": {
        "colab": {
          "base_uri": "https://localhost:8080/"
        },
        "id": "d1DWa9NIDe_y",
        "outputId": "11f90d0c-925e-44c2-e89c-f6254b0cdb41"
      },
      "outputs": [
        {
          "output_type": "execute_result",
          "data": {
            "text/plain": [
              "(10000,)"
            ]
          },
          "metadata": {},
          "execution_count": 111
        }
      ],
      "source": [
        "y_test.shape"
      ]
    },
    {
      "cell_type": "markdown",
      "metadata": {
        "id": "gU2qPs4cDe_y"
      },
      "source": [
        "### Visualizing Digits\n",
        "* Display 24 MNIST training set images"
      ]
    },
    {
      "cell_type": "code",
      "execution_count": 112,
      "metadata": {
        "id": "QLeUjP5qDe_y"
      },
      "outputs": [],
      "source": [
        "%matplotlib inline"
      ]
    },
    {
      "cell_type": "code",
      "execution_count": 113,
      "metadata": {
        "id": "guXwkltfDe_z"
      },
      "outputs": [],
      "source": [
        "import matplotlib.pyplot as plt"
      ]
    },
    {
      "cell_type": "code",
      "execution_count": 114,
      "metadata": {
        "id": "6KHokDLjDe_z"
      },
      "outputs": [],
      "source": [
        "import seaborn as sns"
      ]
    },
    {
      "cell_type": "code",
      "execution_count": 115,
      "metadata": {
        "id": "DpWuH97nDe_z"
      },
      "outputs": [],
      "source": [
        "# sns.set(font_scale=2)"
      ]
    },
    {
      "cell_type": "markdown",
      "metadata": {
        "id": "mu_Y0sIJDe_z"
      },
      "source": [
        "### Visualizing Digits\n",
        "* Run cell several times to view different digits and see **why handwritten digit recognition is a challenge**"
      ]
    },
    {
      "cell_type": "code",
      "execution_count": 116,
      "metadata": {
        "colab": {
          "base_uri": "https://localhost:8080/",
          "height": 906
        },
        "id": "-97z3JyRDe_z",
        "outputId": "8e2cc219-402b-497c-f557-690ed137aad0"
      },
      "outputs": [
        {
          "output_type": "display_data",
          "data": {
            "text/plain": [
              "<Figure size 1600x900 with 24 Axes>"
            ],
            "image/png": "[encoded data removed]"
          },
          "metadata": {}
        }
      ],
      "source": [
        "import numpy as np\n",
        "index = np.random.choice(np.arange(len(X_train)), 24, replace=False)  # 24 indices\n",
        "figure, axes = plt.subplots(nrows=4, ncols=6, figsize=(16, 9))\n",
        "\n",
        "for item in zip(axes.ravel(), X_train[index], y_train[index]):\n",
        "    axes, image, target = item\n",
        "    axes.imshow(image, cmap=plt.cm.gray_r)\n",
        "    axes.set_xticks([])  # remove x-axis tick marks\n",
        "    axes.set_yticks([])  # remove y-axis tick marks\n",
        "    axes.set_title(target)\n",
        "\n",
        "plt.tight_layout()"
      ]
    },
    {
      "cell_type": "markdown",
      "metadata": {
        "id": "I0tmPKyHDe_z"
      },
      "source": [
        "## 16.6.3 Data Preparation\n",
        "* **Scikit-learn’s bundled datasets** were **preprocessed** into the **shapes its models required**\n",
        "* MNIST dataset **requires some preparation** for use in a Keras convnet"
      ]
    },
    {
      "cell_type": "markdown",
      "metadata": {
        "id": "NQ1pSxaaDe_z"
      },
      "source": [
        "### Reshaping the Image Data\n",
        "* **Keras convnets** require **NumPy array inputs**\n",
        "* Each **sample** must have the **shape**\n",
        "> `(`**width**`,` **height**`,` **channels**`)`\n",
        "* Each pixel has **one channel** (grayscale shade 0-255), so sample shapes will be\n",
        "> **`(28, 28, 1)`**\n",
        "* As the **neural network learns** from the images, it **creates many more channels**\n",
        "    * These channels will **represent more complex features**, like **edges**, **curves** and **lines**\n",
        "    * Enable network to **recognize digits** based on these features and how they’re **combined**"
      ]
    },
    {
      "cell_type": "markdown",
      "metadata": {
        "id": "PPtAR56DDe_z"
      },
      "source": [
        "### Reshaping the Image Data (cont.)\n",
        "* NumPy array method `reshape` receives a tuple representing the new shape"
      ]
    },
    {
      "cell_type": "code",
      "execution_count": 117,
      "metadata": {
        "id": "g2IRcBV7De_z"
      },
      "outputs": [],
      "source": [
        "X_train = X_train.reshape((60000, 28, 28, 1))"
      ]
    },
    {
      "cell_type": "code",
      "execution_count": 118,
      "metadata": {
        "colab": {
          "base_uri": "https://localhost:8080/"
        },
        "id": "9cBfLAb5De_z",
        "outputId": "218d7a58-c054-4527-c628-898015b98f88"
      },
      "outputs": [
        {
          "output_type": "execute_result",
          "data": {
            "text/plain": [
              "(60000, 28, 28, 1)"
            ]
          },
          "metadata": {},
          "execution_count": 118
        }
      ],
      "source": [
        "X_train.shape"
      ]
    },
    {
      "cell_type": "code",
      "execution_count": 119,
      "metadata": {
        "id": "nYaJAI3JDe_0"
      },
      "outputs": [],
      "source": [
        "X_test = X_test.reshape((10000, 28, 28, 1))"
      ]
    },
    {
      "cell_type": "code",
      "execution_count": 120,
      "metadata": {
        "colab": {
          "base_uri": "https://localhost:8080/"
        },
        "id": "Q-GqAl75De_0",
        "outputId": "17784d4e-83fe-485c-fa9d-551f854a0d6f"
      },
      "outputs": [
        {
          "output_type": "execute_result",
          "data": {
            "text/plain": [
              "(10000, 28, 28, 1)"
            ]
          },
          "metadata": {},
          "execution_count": 120
        }
      ],
      "source": [
        "X_test.shape"
      ]
    },
    {
      "cell_type": "markdown",
      "metadata": {
        "id": "4cwFAKxeDe_0"
      },
      "source": [
        "### Normalizing the Image Data\n",
        "* **Numeric feature values** may vary widely\n",
        "* Deep learning networks **perform better** on data that's **normalized** into\n",
        "    * the range **0.0-1.0**, or\n",
        "    * a range for which the data’s **mean is 0.0** and its **standard deviation is 1.0**\n",
        "        * S. Ioffe and Szegedy, C., “Batch Normalization: Accelerating Deep Network Training by Reducing Internal Covariate Shift.” https://arxiv.org/abs/1502.03167\n",
        "* Divide **each pixel** value by **255** to normalize into the range **0.0-1.0**:"
      ]
    },
    {
      "cell_type": "code",
      "execution_count": 121,
      "metadata": {
        "id": "tBFim_KFDe_0"
      },
      "outputs": [],
      "source": [
        "X_train = X_train.astype('float32') / 255"
      ]
    },
    {
      "cell_type": "code",
      "execution_count": 122,
      "metadata": {
        "id": "GS5K5_1CDe_0"
      },
      "outputs": [],
      "source": [
        "X_test = X_test.astype('float32') / 255"
      ]
    },
    {
      "cell_type": "markdown",
      "metadata": {
        "id": "e3bnpLq0De_0"
      },
      "source": [
        "### One-Hot Encoding: Convert Labels to Categorical Data\n",
        "* **Predictions** for each digit will be an **array of 10 probabilities**\n",
        "* To **evaluate model accuracy**, Keras **compares predictions to dataset's labels**\n",
        "    * Both must have the **same shape**\n",
        "    * MNIST labels are **individual integers 0-9**\n",
        "* Must **transform labels** into **categorical data arrays** matching the **prediction format**\n",
        "* Use [**one-hot encoding**](https://en.wikipedia.org/wiki/One-hot) to convert labels from integers into 10-element **arrays of 1.0s and 0.0s**\n",
        "    * **only one element is 1.0** and the **rest are 0.0s**\n",
        "* Categorical representation of a **7**\n",
        "> <pre>[0.0, 0.0, 0.0, 0.0, 0.0, 0.0, 0.0, <strong>1.0</strong>, 0.0, 0.0]</pre>\n",
        "* **`tensorflow.keras.utils`** function **`to_categorical`** performs **one-hot encoding**"
      ]
    },
    {
      "cell_type": "markdown",
      "metadata": {
        "id": "M5Ss14tdDe_0"
      },
      "source": [
        "### One-Hot Encoding: Convert Labels to Categorical Data (cont.)\n",
        "* Transform **`y_train`** and **`y_test`** into **two-dimensional arrays of categorical data**"
      ]
    },
    {
      "cell_type": "code",
      "execution_count": 123,
      "metadata": {
        "id": "909U8pnuDe_0"
      },
      "outputs": [],
      "source": [
        "from tensorflow.keras.utils import to_categorical"
      ]
    },
    {
      "cell_type": "code",
      "execution_count": 124,
      "metadata": {
        "id": "tKL-_XmnDe_0"
      },
      "outputs": [],
      "source": [
        "y_train = to_categorical(y_train)"
      ]
    },
    {
      "cell_type": "code",
      "execution_count": 125,
      "metadata": {
        "colab": {
          "base_uri": "https://localhost:8080/"
        },
        "id": "Q3mGsBGMDe_0",
        "outputId": "216be386-3ca3-4f5a-a1c9-6717c82d4472"
      },
      "outputs": [
        {
          "output_type": "execute_result",
          "data": {
            "text/plain": [
              "(60000, 10)"
            ]
          },
          "metadata": {},
          "execution_count": 125
        }
      ],
      "source": [
        "y_train.shape"
      ]
    },
    {
      "cell_type": "code",
      "execution_count": 126,
      "metadata": {
        "colab": {
          "base_uri": "https://localhost:8080/"
        },
        "id": "9U3RbXwADe_0",
        "outputId": "3a9579b5-a4c9-4a0c-d6e5-d51dcdfa4880"
      },
      "outputs": [
        {
          "output_type": "execute_result",
          "data": {
            "text/plain": [
              "array([0., 0., 0., 0., 0., 1., 0., 0., 0., 0.], dtype=float32)"
            ]
          },
          "metadata": {},
          "execution_count": 126
        }
      ],
      "source": [
        "y_train[0]  # one sample’s categorical data"
      ]
    },
    {
      "cell_type": "code",
      "execution_count": 127,
      "metadata": {
        "id": "0RKn5R72De_1"
      },
      "outputs": [],
      "source": [
        "y_test = to_categorical(y_test)"
      ]
    },
    {
      "cell_type": "code",
      "execution_count": 128,
      "metadata": {
        "colab": {
          "base_uri": "https://localhost:8080/"
        },
        "id": "hKSgpWyYDe_1",
        "outputId": "9e9ff7ae-d05c-4894-9428-58d322a5b291"
      },
      "outputs": [
        {
          "output_type": "execute_result",
          "data": {
            "text/plain": [
              "(10000, 10)"
            ]
          },
          "metadata": {},
          "execution_count": 128
        }
      ],
      "source": [
        "y_test.shape"
      ]
    },
    {
      "cell_type": "markdown",
      "metadata": {
        "id": "GEaoliUqDe_1"
      },
      "source": [
        "## 16.6.4 Creating the Neural Network\n",
        "* Configure a **convolutional neural network**\n",
        "* **`Sequential` model** stacks layers to **execute sequentially**\n",
        "    * **output** of one layer becomes **input** to the next\n",
        "    * **Feed-forward network**\n",
        "    * Later, you’ll see that not all layers feed output to the next layer"
      ]
    },
    {
      "cell_type": "code",
      "execution_count": 129,
      "metadata": {
        "id": "ohwzZ307De_1"
      },
      "outputs": [],
      "source": [
        "from tensorflow.keras.models import Sequential"
      ]
    },
    {
      "cell_type": "code",
      "execution_count": 130,
      "metadata": {
        "id": "hSxi4UrtDe_1"
      },
      "outputs": [],
      "source": [
        "cnn = Sequential()"
      ]
    },
    {
      "cell_type": "markdown",
      "metadata": {
        "id": "EVrt_RLsDe_1"
      },
      "source": [
        "### Adding Layers to the Network\n",
        "* A typical **convnet** consists of\n",
        "\t* **input layer** that receives **training samples**\n",
        "\t* **hidden layers** that **learn** from training samples\n",
        "\t* **output layer** that **produces predictions**\n",
        "* Import layer classes for a basic **convnet**"
      ]
    },
    {
      "cell_type": "code",
      "execution_count": 131,
      "metadata": {
        "id": "7XaASxB9De_1"
      },
      "outputs": [],
      "source": [
        "from tensorflow.keras.layers import Conv2D, Dense, Flatten, MaxPooling2D"
      ]
    },
    {
      "cell_type": "markdown",
      "metadata": {
        "id": "WW87zsnJDe_2"
      },
      "source": [
        "### Convolution (1 of 6)\n",
        "* We'll start with a **convolution layer**\n",
        "* Uses the **relationships between pixels in close proximity** to learn useful **features** (or patterns) in small areas of each sample\n",
        "* These **features** become **inputs** to **subsequent layers**"
      ]
    },
    {
      "cell_type": "markdown",
      "metadata": {
        "id": "6KIfZzi4De_2"
      },
      "source": [
        "### Convolution (cont.)\n",
        "* Examine convolution on a 6-by-6 image\n",
        "* **3-by-3 shaded square** represents the **kernel**\n",
        "* **Convolution** performs calculations that **learn** from kernel's **9** features, then **outputs 1 new feature**\n",
        "![Convolution diagram in which the 3-by-3 shaded square represents the kernel in its initial position](./ch16images/convolution.png \"Convolution diagram in which the 3-by-3 shaded square represents the kernel in its initial position\")"
      ]
    },
    {
      "cell_type": "markdown",
      "metadata": {
        "id": "1uD7zSVsDe_2"
      },
      "source": [
        "### Convolution (cont.)\n",
        "* [**Kernels typically are 3-by-3**](https://www.quora.com/How-can-I-decide-the-kernel-size-output-maps-and-layers-of-CNN)\n",
        "    * We found convnets that used **5-by-5** and **7-by-7**\n",
        "    * Kernel-size is a **hyperparameter**\n",
        "* By looking at **features near one another**, the network begins to **recognize features**\n",
        "    * Like **edges**, **straight lines** and **curves**"
      ]
    },
    {
      "cell_type": "markdown",
      "metadata": {
        "id": "4qXxdtaIDe_2"
      },
      "source": [
        "### Convolution (cont.)\n",
        "* Next, **convolution layer** moves **kernel one pixel to the right** (the **stride**)\n",
        "* **Overlaps** with previous kernel, so **convolution layer can learn** from all **features that touch one another**\n",
        "![Convolution diagram in which the 3-by-3 shaded square is moved one pixel to the right, overlapping with  of the three columns in the previous position](./ch16images/convolution2.png \"Convolution diagram in which the 3-by-3 shaded square is moved one pixel to the right, overlapping with  of the three columns in the previous position\")"
      ]
    },
    {
      "cell_type": "markdown",
      "metadata": {
        "id": "tksREKGODe_2"
      },
      "source": [
        "### Convolution (cont.)\n",
        "* **Complete pass** left-to-right and top-to-bottom is called a **filter**\n",
        "* For a **3-by-3 kernel**, the filter dimensions will be **two less than the input dimensions**\n",
        "    * For each 28-by-28 MNIST image, the filter will be 26-by-26\n",
        "* **Number of filters** in the **convolutional layer** is commonly **32** or **64** for small images\n",
        "* Each filter produces different results\n",
        "* **Higher-resolution images** have **more features**, so they **require more filters**\n",
        "* [**Keras team’s pretrained convnets**](https://github.com/keras-team/keras-applications/tree/master/keras_applications) use 64, 128 or even 256 filters in their **first convolutional layers**"
      ]
    },
    {
      "cell_type": "markdown",
      "metadata": {
        "id": "UA1uJbzCDe_2"
      },
      "source": [
        "### Convolution (cont.)\n",
        "* **Set of filters** produced by a **convolution layer** is called a **feature map**\n",
        "* Subsequent **convolution layers** combine features from previous feature maps to **recognize larger features** and so on\n",
        "\t* In **facial recognition**, **early layers** might recognize **lines**, **edges** and **curves**, and **subsequent layers** might **combine** those into **features** like **eyes**, **eyebrows**, **noses**, **ears** and **mouths**\n",
        "* After **learning a feature**, a network can **recognize that feature anywhere** in the **image**\n",
        "    * One reason **convnets** are popular for **object recognition** in images"
      ]
    },
    {
      "cell_type": "markdown",
      "metadata": {
        "id": "RKkqJTmDDe_2"
      },
      "source": [
        "### Adding a Convolution Layer\n",
        "* **`Conv2D`** implements the convolution layer"
      ]
    },
    {
      "cell_type": "code",
      "execution_count": 132,
      "metadata": {
        "id": "cGY1KmSyDe_2"
      },
      "outputs": [],
      "source": [
        "cnn.add(Conv2D(filters=64, kernel_size=(3, 3), activation='relu',\n",
        "               input_shape=(28, 28, 1)))"
      ]
    },
    {
      "cell_type": "markdown",
      "metadata": {
        "id": "oDUS08TIDe_2"
      },
      "source": [
        "* **`filters=64`**—The number of **filters** in the resulting **feature map**.\n",
        "* **`kernel_size=(3, 3)`**—The **size of the kernel** used in each **filter**\n",
        "* **`activation='relu'`**—**Rectified Linear Unit activation function** is used to produce this layer’s output\n",
        "    * **Most widely used activation function** (Chollet, François. _Deep Learning with Python_. p. 72. Shelter Island, NY: Manning Publications, 2018)\n",
        "    * [**Good for performance** because it’s **easy to calculate**](https://towardsdatascience.com/exploring-activation-functions-for-neural-networks-73498da59b02)\n",
        "    * [Commonly recommended for **convolutional layers**](https://www.quora.com/How-should-I-choose-a-proper-activation-function-for-the-neural-network)"
      ]
    },
    {
      "cell_type": "markdown",
      "metadata": {
        "id": "cQOuMqBVDe_3"
      },
      "source": [
        "### Adding a Convolution Layer (cont.)\n",
        "* **First layer** in the model, so we specify the shape of each sample with `input_shape=(28, 28,1)`\n",
        "\t* Creates an **input layer** to **load the samples** and pass them into the **`Conv2D` layer**, which is actually the **first hidden layer**\n",
        "* Each subsequent layer **infers `input_shape`** from previous layer’s **output shape**\n",
        "    * Makes it easy to **stack** layers"
      ]
    },
    {
      "cell_type": "markdown",
      "metadata": {
        "id": "VEqEPgmnDe_3"
      },
      "source": [
        "### Dimensionality of the First Convolution Layer’s Output\n",
        "* Input samples are 28-by-28-by-1—that is, **784 features each**\n",
        "* Specified **64 filters** and a **3-by-3 kernel** for the layer, so the **feature map size is 26-by-26-by-64** for a total of **43,264 features**\n",
        "\t* **Significant increase in dimensionality**\n",
        "    * **Enormous** compared to numbers of features processed in our Machine Learning examples\n",
        "* As each layer adds features, feature map **dimensionality** grows significantly\n",
        "    * This is one of reason **deep learning** often requires **tremendous processing power**"
      ]
    },
    {
      "cell_type": "markdown",
      "metadata": {
        "id": "m4zbpZilDe_3"
      },
      "source": [
        "### Overfitting\n",
        "* Can occur when a **model is too complex** compared to what it is modeling\n",
        "* **Most extreme case**: Model **memorizes** its training data's features\n",
        "* **Overfitting** tends to occur in **deep learning** as the **dimensionality** becomes **too large** [\\[1\\]](https://cs231n.github.io/convolutional-networks/),[\\[2\\]](https://medium.com/@cxu24/why-dimensionality-reduction-is-important-dd60b5611543),[\\[3\\]](https://towardsdatascience.com/preventing-deep-neural-network-from-overfitting-953458db800a)\n",
        "* **Higher dimensionality** also increases (and sometimes explodes) **computation time**\n",
        "* For deep learning on **CPUs**, training could become **intolerably slow**\n",
        "* There are various techniques to **prevent overfitting** [\\[1\\]](https://towardsdatascience.com/deep-learning-3-more-on-cnns-handling-overfitting-2bd5d99abe5d), [\\[2\\]](https://www.kdnuggets.com/2015/04/preventing-overfitting-neural-networks.html) &mdash; we'll use **pooling**"
      ]
    },
    {
      "cell_type": "markdown",
      "metadata": {
        "id": "xTy-OWAVDe_3"
      },
      "source": [
        "### Adding a Pooling Layer\n",
        "* To **reduce overfitting** and **computation time**, a **convolution layer** is often followed by one or more layers that **reduce dimensionality** of **convolution layer’s output**\n",
        "* **Pooling compresses** (or **down-samples**) the results by **discarding features**\n",
        "    * Helps make the model **more general**\n",
        "* **Most common pooling technique** is called **max pooling**\n",
        "\t* Examines a 2-by-2 square of features and keeps only the maximum feature."
      ]
    },
    {
      "cell_type": "markdown",
      "metadata": {
        "id": "etI562zyDe_3"
      },
      "source": [
        "### Adding a Pooling Layer (cont.)\n",
        "* 2-by-2 blue square in position 1 represents the initial pool of features to examine:\n",
        "\n",
        "![Max pooling diagram showing the 6-by-6 set of numeric values we wish to compress with the 2-by-2 blue square in position 1 representing the initial pool of features to examine, and the 3-by-3 square representing the results of max pooling](./ch16images/pooling.png \"Max pooling diagram showing the 6-by-6 set of numeric values we wish to compress with the 2-by-2 blue square in position 1 representing the initial pool of features to examine, and the 3-by-3 square representing the results of max pooling\")z"
      ]
    },
    {
      "cell_type": "markdown",
      "metadata": {
        "id": "ZXUNPUF8De_3"
      },
      "source": [
        "### Adding a Pooling Layer (cont.)\n",
        "* Outputs **maximum feature** from each pool\n",
        "* **Pools do not overlap**\n",
        "* **Stride** for a 2-by-2 pool is **2**\n",
        "* Every group of four features is reduced to one, so 2-by-2 pooling **compresses** number of features by **75%**\n",
        "* Reduces previous layer’s output from **26-by-26-by-64** to **13-by-13-by-64**"
      ]
    },
    {
      "cell_type": "code",
      "execution_count": 133,
      "metadata": {
        "id": "xhi9k9EqDe_3"
      },
      "outputs": [],
      "source": [
        "cnn.add(MaxPooling2D(pool_size=(2, 2)))"
      ]
    },
    {
      "cell_type": "markdown",
      "metadata": {
        "id": "-jwLy_dZDe_3"
      },
      "source": [
        "### Adding Another Convolutional Layer and Pooling Layer\n",
        "* **Convnets** often have **many convolution and pooling layers**.\n",
        "* [Keras team’s convnets](https://github.com/keras-team/keras-applications/tree/master/keras_applications) tend to **double** the number of **filters** in subsequent **convolutional layers** to enable the models to learn more relationships between the features"
      ]
    },
    {
      "cell_type": "code",
      "execution_count": 134,
      "metadata": {
        "id": "Z8XqDsEyDe_3"
      },
      "outputs": [],
      "source": [
        "cnn.add(Conv2D(filters=128, kernel_size=(3, 3), activation='relu'))"
      ]
    },
    {
      "cell_type": "code",
      "execution_count": 135,
      "metadata": {
        "id": "SBmkEhzEDe_4"
      },
      "outputs": [],
      "source": [
        "cnn.add(MaxPooling2D(pool_size=(2, 2)))"
      ]
    },
    {
      "cell_type": "markdown",
      "metadata": {
        "id": "EU_6-B_dDe_4"
      },
      "source": [
        "* **Input** to the **second convolution layer** is the 13-by-13-by-64 **output of the first pooling layer**\n",
        "* **Output** of this **Conv2D layer** will be **11-by-11-by-128**\n",
        "* For **odd dimensions** like 11-by-11, **Keras pooling layers round down** by default (in this case to 10-by-10), so this pooling layer’s **output** will be **5-by-5-by-128**"
      ]
    },
    {
      "cell_type": "markdown",
      "metadata": {
        "id": "SPapZUOMDe_4"
      },
      "source": [
        "### Flattening the Results\n",
        "* Model's **final output** will be a **one-dimensional** array of 10 probabilities that classify the digits\n",
        "* To prepare for **one-dimensional final predictions**, need to **flatten** the previous layer’s output to **one dimension**\n",
        "* **`Flatten`** layer's output will be **1-by-3200** (5 &#215; 5 &#215; 128)"
      ]
    },
    {
      "cell_type": "code",
      "execution_count": 136,
      "metadata": {
        "id": "b4Y_881HDe_4"
      },
      "outputs": [],
      "source": [
        "cnn.add(Flatten())"
      ]
    },
    {
      "cell_type": "markdown",
      "metadata": {
        "id": "w5UmyudKDe_4"
      },
      "source": [
        "### Adding a Dense Layer to Reduce the Number of Features\n",
        "* Layers before the **`Flatten`** layer **learned digit features**\n",
        "* Now must **learn the relationships among those features** to **classify** which digit each image represents\n",
        "* Accomplished with **fully connected `Dense` layers**\n",
        "* The following **`Dense` layer** creates **128 neurons (`units`)** that **learn** from the 3200 outputs of the previous layer"
      ]
    },
    {
      "cell_type": "code",
      "source": [
        "cnn.add(Dense(units=4096, activation='relu'))"
      ],
      "metadata": {
        "id": "uSJjwUaoU2EV"
      },
      "execution_count": 137,
      "outputs": []
    },
    {
      "cell_type": "code",
      "execution_count": 138,
      "metadata": {
        "id": "0pUvU6YKDe_4"
      },
      "outputs": [],
      "source": [
        "cnn.add(Dense(units=128, activation='relu'))"
      ]
    },
    {
      "cell_type": "markdown",
      "metadata": {
        "id": "z9Qq-nFiDe_4"
      },
      "source": [
        "* Many **convnets** contain **at least one `Dense` layer**\n",
        "* **Convnets** geared to more complex image datasets with higher-resolution images like [**ImageNet**](http://www.image-net.org)—a dataset of over 14 million images—often have **several `Dense` layers**, commonly with **4096 neurons**\n",
        "* See the [Keras pretrained ImageNet convnets' code](https://github.com/keras-team/keras-applications/tree/master/keras_applications)"
      ]
    },
    {
      "cell_type": "markdown",
      "metadata": {
        "id": "wEIuGmscDe_4"
      },
      "source": [
        "### Adding Another Dense Layer to Produce the Final Output\n",
        "* Final **`Dense`** layer **classifies** inputs into **neurons** representing the classes **0-9**\n",
        "* The **`softmax` activation function** converts values of these 10 neurons into **classification probabilities**\n",
        "* **Neuron** with **highest probability** represents the **prediction** for a given digit image"
      ]
    },
    {
      "cell_type": "code",
      "execution_count": 139,
      "metadata": {
        "id": "6KKja37uDe_4"
      },
      "outputs": [],
      "source": [
        "cnn.add(Dense(units=10, activation='softmax'))"
      ]
    },
    {
      "cell_type": "markdown",
      "metadata": {
        "id": "SST6h1h9De_5"
      },
      "source": [
        "### Printing the Model’s Summary\n",
        "* Use model’s **`summary`** method\n",
        "* Note layers' **output shapes** and **numbers of parameters**\n",
        "* **Parameters** are the **weights** that the network **learns** during training [\\[1\\]](https://hackernoon.com/everything-you-need-to-know-about-neural-networks-8988c3ee4491),[\\[2\\]](https://www.kdnuggets.com/2018/06/deep-learning-best-practices-weight-initialization.html)\n",
        "* **Relatively small network**, but needs to **learn nearly 500,000 parameters**!\n",
        "\t* This is for **tiny images** that are less than 1/4 the size of icons on smartphone home screens\n",
        "\t* Imagine how many features a network would have to learn to process high-resolution 4K video frames or the super-high-resolution images produced by today’s digital cameras\n",
        "* In the **`Output Shape`** column, **`None`** means the model does not know in advance how many training samples you’re going to provide"
      ]
    },
    {
      "cell_type": "code",
      "execution_count": 140,
      "metadata": {
        "colab": {
          "base_uri": "https://localhost:8080/"
        },
        "id": "bx2iE9lkDe_5",
        "outputId": "fdab9a8a-dc2e-4984-bef1-289dedfe68f4"
      },
      "outputs": [
        {
          "output_type": "stream",
          "name": "stdout",
          "text": [
            "Model: \"sequential_2\"\n",
            "_________________________________________________________________\n",
            " Layer (type)                Output Shape              Param #   \n",
            "=================================================================\n",
            " conv2d_4 (Conv2D)           (None, 26, 26, 64)        640       \n",
            "                                                                 \n",
            " max_pooling2d_4 (MaxPoolin  (None, 13, 13, 64)        0         \n",
            " g2D)                                                            \n",
            "                                                                 \n",
            " conv2d_5 (Conv2D)           (None, 11, 11, 128)       73856     \n",
            "                                                                 \n",
            " max_pooling2d_5 (MaxPoolin  (None, 5, 5, 128)         0         \n",
            " g2D)                                                            \n",
            "                                                                 \n",
            " flatten_2 (Flatten)         (None, 3200)              0         \n",
            "                                                                 \n",
            " dense_3 (Dense)             (None, 4096)              13111296  \n",
            "                                                                 \n",
            " dense_4 (Dense)             (None, 128)               524416    \n",
            "                                                                 \n",
            " dense_5 (Dense)             (None, 10)                1290      \n",
            "                                                                 \n",
            "=================================================================\n",
            "Total params: 13711498 (52.31 MB)\n",
            "Trainable params: 13711498 (52.31 MB)\n",
            "Non-trainable params: 0 (0.00 Byte)\n",
            "_________________________________________________________________\n"
          ]
        }
      ],
      "source": [
        "cnn.summary()"
      ]
    },
    {
      "cell_type": "markdown",
      "metadata": {
        "id": "7iQ89wCXDe_5"
      },
      "source": [
        "### Visualizing a Model’s Structure\n",
        "* Use the **`plot_model` function** from module `tensorflow.keras.utils`"
      ]
    },
    {
      "cell_type": "code",
      "execution_count": 141,
      "metadata": {
        "colab": {
          "base_uri": "https://localhost:8080/",
          "height": 976
        },
        "id": "voCWaRElDe_5",
        "outputId": "d7b41eaf-f22f-40b9-d539-4d2e71e77d2b"
      },
      "outputs": [
        {
          "output_type": "execute_result",
          "data": {
            "image/png": "[encoded data removed]",
            "text/plain": [
              "<IPython.core.display.Image object>"
            ]
          },
          "metadata": {},
          "execution_count": 141
        }
      ],
      "source": [
        "from tensorflow.keras.utils import plot_model\n",
        "from IPython.display import Image\n",
        "plot_model(cnn, to_file='convnet.png', show_shapes=True,\n",
        "           show_layer_names=True)\n",
        "Image(filename='convnet.png')  # display resulting image in notebook"
      ]
    },
    {
      "cell_type": "markdown",
      "metadata": {
        "id": "FslDLMVPDe_5"
      },
      "source": [
        "### Compiling the Model\n",
        "* Complete the model by calling its **`compile` method**"
      ]
    },
    {
      "cell_type": "code",
      "execution_count": 142,
      "metadata": {
        "id": "ae-CQ1-wDe_5"
      },
      "outputs": [],
      "source": [
        "cnn.compile(optimizer='adam',\n",
        "            loss='categorical_crossentropy',\n",
        "            metrics=['accuracy'])"
      ]
    },
    {
      "cell_type": "markdown",
      "metadata": {
        "id": "cFotTQoqDe_5"
      },
      "source": [
        "### Compiling the Model (cont.)\n",
        "* **`optimizer='adam'`**—The **optimizer** this model uses to **adjust the weights** throughout the neural network **as it learns**\n",
        "\t* [**Keras optimizers**](https://keras.io/optimizers/)\n",
        "\t* `'adam'` performs well across a wide variety of models [\\[1\\]](https://medium.com/octavian-ai/which-optimizer-and-learning-rate-should-i-use-for-deep-learning-5acb418f9b2),[\\[2\\]](https://towardsdatascience.com/types-of-optimization-algorithms-used-in-neural-networks-and-ways-to-optimize-gradient-95ae5d39529f)"
      ]
    },
    {
      "cell_type": "markdown",
      "metadata": {
        "id": "p0hximvhDe_5"
      },
      "source": [
        "### Compiling the Model (cont.)\n",
        "* **`loss='categorical_crossentropy'`**—The **loss function** used by the optimizer in **multi-classification networks** (ours predicts 10 classes)\n",
        "\t* **Optimizer** attempts to **minimize the values returned by the loss function**\n",
        "\t* For **binary classification**, Keras provides **`'binary_crossentropy'`**, and for **regression**, **`'mean_squared_error'`**\n",
        "\t* [Other loss functions](https://keras.io/losses/)"
      ]
    },
    {
      "cell_type": "markdown",
      "metadata": {
        "id": "pacmmHtZDe_6"
      },
      "source": [
        "### Compiling the Model (cont.)\n",
        "* **`metrics=['accuracy']`**—List of **metrics** the network will produce to help you **evaluate the model**\n",
        "\t* **Accuracy** commonly used in **classification models**\n",
        "\t* We’ll use it to check **percentage of correct predictions**\n",
        "\t* [Other metrics](https://keras.io/metrics/)"
      ]
    },
    {
      "cell_type": "markdown",
      "metadata": {
        "id": "v7PdGxzqDe_6"
      },
      "source": [
        "## 15.6.5 Training and Evaluating the Model\n",
        "* **Train a Keras model** by calling its **`fit` method**\n",
        "```python\n",
        "cnn.fit(X_train, y_train, epochs=5, batch_size=64, validation_split=0.1)\n",
        "```\n",
        "* **`epochs=5`**&mdash;train neural networks iteratively over time\n",
        "    * Each **`epoch`** processes **every training dataset sample** once\n",
        "    * **Hyperparameter** that may need tuning\n",
        "* **`batch_size=64`**&mdash;**number of samples to process at a time**\n",
        "    * Most models specify a **power of 2 from 32 to 512**\n",
        "* [**`validation_split=0.1`**&mdash;model should reserve the **last** 10% of the training samples for validation](https://keras.io/getting-started/faq/#how-is-the-validation-split-computed)\n",
        "\t* After each **epoch**, model uses validation samples to **make predictions** and display the **validation loss and accuracy**\n",
        "    * Use **tune your layers** and the **`fit` method’s hyperparameters**, or possibly change the **layer composition** of your model\n",
        "    * Can specify **separate validation data** with **`validation_data` argument**"
      ]
    },
    {
      "cell_type": "markdown",
      "metadata": {
        "id": "imHcQZypDe_6"
      },
      "source": [
        "## 15.6.5 Training and Evaluating the Model (cont.)\n",
        "* Model took about 5 minutes to train on our CPU.\n",
        "* **Lecture note: Play convnet timelapse video here**"
      ]
    },
    {
      "cell_type": "code",
      "execution_count": 143,
      "metadata": {
        "colab": {
          "base_uri": "https://localhost:8080/"
        },
        "id": "zIyMUpMUDe_6",
        "outputId": "6a882101-c49a-4e45-8c54-d3d852310e01"
      },
      "outputs": [
        {
          "output_type": "stream",
          "name": "stdout",
          "text": [
            "Epoch 1/5\n",
            "844/844 [==============================] - 387s 458ms/step - loss: 0.1162 - accuracy: 0.9649 - val_loss: 0.0396 - val_accuracy: 0.9890\n",
            "Epoch 2/5\n",
            "844/844 [==============================] - 398s 471ms/step - loss: 0.0403 - accuracy: 0.9876 - val_loss: 0.0416 - val_accuracy: 0.9887\n",
            "Epoch 3/5\n",
            "844/844 [==============================] - 392s 464ms/step - loss: 0.0247 - accuracy: 0.9926 - val_loss: 0.0460 - val_accuracy: 0.9877\n",
            "Epoch 4/5\n",
            "844/844 [==============================] - 394s 467ms/step - loss: 0.0192 - accuracy: 0.9941 - val_loss: 0.0288 - val_accuracy: 0.9913\n",
            "Epoch 5/5\n",
            "844/844 [==============================] - 405s 479ms/step - loss: 0.0153 - accuracy: 0.9950 - val_loss: 0.0315 - val_accuracy: 0.9927\n"
          ]
        },
        {
          "output_type": "execute_result",
          "data": {
            "text/plain": [
              "<keras.src.callbacks.History at 0x7db311e21cc0>"
            ]
          },
          "metadata": {},
          "execution_count": 143
        }
      ],
      "source": [
        "cnn.fit(X_train, y_train, epochs=5, batch_size=64, validation_split=0.1)"
      ]
    },
    {
      "cell_type": "markdown",
      "metadata": {
        "id": "uxh-NU-sDe_6"
      },
      "source": [
        "## 15.6.5 Training and Evaluating the Model (cont.)\n",
        "* As training proceeds, **`fit`** shows the **progress** of each **epoch**, **how long** the epoch took to execute, and the **evaluation metrics** for that epoch\n",
        "* Impressive **training accuracy (`acc`**) and **validation accurracy (`acc`)**, given that **we have not yet tried to tune the hyperparameters** or **tweak the number and types of the layers**"
      ]
    },
    {
      "cell_type": "markdown",
      "metadata": {
        "id": "MnveSxk-De_6"
      },
      "source": [
        "### Evaluating the Model on Unseen Data with Model’s **`evaluate` Method**"
      ]
    },
    {
      "cell_type": "code",
      "execution_count": 144,
      "metadata": {
        "colab": {
          "base_uri": "https://localhost:8080/"
        },
        "id": "W1s3bksSDe_6",
        "outputId": "0ed1d6ae-6be1-4aa7-b757-87db76c60429"
      },
      "outputs": [
        {
          "output_type": "stream",
          "name": "stdout",
          "text": [
            "313/313 [==============================] - 15s 47ms/step - loss: 0.0332 - accuracy: 0.9914\n"
          ]
        }
      ],
      "source": [
        "loss, accuracy = cnn.evaluate(X_test, y_test)"
      ]
    },
    {
      "cell_type": "code",
      "execution_count": 145,
      "metadata": {
        "colab": {
          "base_uri": "https://localhost:8080/"
        },
        "id": "ZH8woRs8De_6",
        "outputId": "388a89e3-d972-48d0-cdeb-8d8f1f1e5165"
      },
      "outputs": [
        {
          "output_type": "execute_result",
          "data": {
            "text/plain": [
              "0.033229291439056396"
            ]
          },
          "metadata": {},
          "execution_count": 145
        }
      ],
      "source": [
        "loss"
      ]
    },
    {
      "cell_type": "code",
      "execution_count": 146,
      "metadata": {
        "colab": {
          "base_uri": "https://localhost:8080/"
        },
        "id": "Vb0yVWgDDe_7",
        "outputId": "7461c224-f438-4cab-a0a6-38617f067f89"
      },
      "outputs": [
        {
          "output_type": "execute_result",
          "data": {
            "text/plain": [
              "0.9914000034332275"
            ]
          },
          "metadata": {},
          "execution_count": 146
        }
      ],
      "source": [
        "accuracy"
      ]
    },
    {
      "cell_type": "markdown",
      "metadata": {
        "id": "C-lhX8pIDe_7"
      },
      "source": [
        "* Without tuning, our **convnet model** is **99+% accurate** for **unseen data samples**\n",
        "    * Can find models online that predict MNIST with even **higher accuracy**\n",
        "    * **Experiment** with different numbers of layers, types of layers and layer parameters and observe how those changes affect your results"
      ]
    },
    {
      "cell_type": "markdown",
      "metadata": {
        "id": "yVZWQDiaDe_7"
      },
      "source": [
        "### Making Predictions with the Model’s **`predict` Method**"
      ]
    },
    {
      "cell_type": "code",
      "execution_count": 147,
      "metadata": {
        "colab": {
          "base_uri": "https://localhost:8080/"
        },
        "id": "iRE9mCsKDe_7",
        "outputId": "416bea69-517a-48bd-98b1-d65d0dcc9e3f"
      },
      "outputs": [
        {
          "output_type": "stream",
          "name": "stdout",
          "text": [
            "313/313 [==============================] - 15s 47ms/step\n"
          ]
        }
      ],
      "source": [
        "predictions = cnn.predict(X_test)"
      ]
    },
    {
      "cell_type": "markdown",
      "metadata": {
        "id": "a-BGz_Q3De_7"
      },
      "source": [
        "* The first digit should be a 7 (shown as `1.` at index 7)"
      ]
    },
    {
      "cell_type": "code",
      "execution_count": 148,
      "metadata": {
        "colab": {
          "base_uri": "https://localhost:8080/"
        },
        "id": "UuvzTnfjDe_7",
        "outputId": "ab42d0c8-9234-448f-aa06-49e1f0e3972a"
      },
      "outputs": [
        {
          "output_type": "execute_result",
          "data": {
            "text/plain": [
              "array([0., 0., 0., 0., 0., 0., 0., 1., 0., 0.], dtype=float32)"
            ]
          },
          "metadata": {},
          "execution_count": 148
        }
      ],
      "source": [
        "y_test[0]"
      ]
    },
    {
      "cell_type": "markdown",
      "metadata": {
        "id": "L7o53rAuDe_7"
      },
      "source": [
        "* Check the **probabilities** returned by **`predict`** for **first test sample**"
      ]
    },
    {
      "cell_type": "code",
      "execution_count": 149,
      "metadata": {
        "colab": {
          "base_uri": "https://localhost:8080/"
        },
        "id": "mMEbqYIKDe_7",
        "outputId": "646638ea-ae31-4588-f18a-80b27700942a"
      },
      "outputs": [
        {
          "output_type": "stream",
          "name": "stdout",
          "text": [
            "0: 0.0000000000%\n",
            "1: 0.0000000449%\n",
            "2: 0.0000000014%\n",
            "3: 0.0000000230%\n",
            "4: 0.0000000021%\n",
            "5: 0.0000000019%\n",
            "6: 0.0000000000%\n",
            "7: 99.9999940395%\n",
            "8: 0.0000000020%\n",
            "9: 0.0000011649%\n"
          ]
        }
      ],
      "source": [
        "for index, probability in enumerate(predictions[0]):\n",
        "    print(f'{index}: {probability:.10%}')"
      ]
    },
    {
      "cell_type": "markdown",
      "metadata": {
        "id": "mEehnn_gDe_7"
      },
      "source": [
        "* Our model believes this digit is a 7 with **nearly** 100% certainty\n",
        "* Not all predictions have this level of certainty"
      ]
    },
    {
      "cell_type": "markdown",
      "metadata": {
        "id": "FKeNtA3SDe_7"
      },
      "source": [
        "### Locating the Incorrect Predictions\n",
        "* View some **incorrectly predicted images** to get a sense of digits **our model has trouble with**\n",
        "\t* If the model always mispredicts 8s, perhaps we need more 8s in our training data\n",
        "* To determine whether a prediction was correct, compare the index of the largest probability in `predictions[0]` to the index of the element containing **`1.0` in `y_test[0]`**\n",
        "\t* If **indices** are the same, **prediction was correct**"
      ]
    },
    {
      "cell_type": "markdown",
      "metadata": {
        "id": "c2ItUoVkDe_8"
      },
      "source": [
        "### Locating the Incorrect Predictions (cont.)\n",
        "* **Reshape the samples** from the shape `(28, 28, 1)` that Keras required for learning back to `(28, 28)`, which **Matplotlib requires to display the images**"
      ]
    },
    {
      "cell_type": "code",
      "execution_count": 150,
      "metadata": {
        "id": "NCJnijGGDe_8"
      },
      "outputs": [],
      "source": [
        "images = X_test.reshape((10000, 28, 28))"
      ]
    },
    {
      "cell_type": "code",
      "execution_count": 151,
      "metadata": {
        "id": "iZyurGeUDe_8"
      },
      "outputs": [],
      "source": [
        "incorrect_predictions = []"
      ]
    },
    {
      "cell_type": "markdown",
      "metadata": {
        "id": "9NeXvGe_De_8"
      },
      "source": [
        "* In the following snippet, **`p`** is the **predicted value array**, and **`e`** is the **expected value array**\n",
        "* **NumPy’s `argmax` function** determines **index** of an array’s **highest valued element**"
      ]
    },
    {
      "cell_type": "code",
      "execution_count": 152,
      "metadata": {
        "id": "6FS_HbJrDe_8"
      },
      "outputs": [],
      "source": [
        "for i, (p, e) in enumerate(zip(predictions, y_test)):\n",
        "    predicted, expected = np.argmax(p), np.argmax(e)\n",
        "\n",
        "    if predicted != expected:  # prediction was incorrect\n",
        "        incorrect_predictions.append(\n",
        "            (i, images[i], predicted, expected))"
      ]
    },
    {
      "cell_type": "code",
      "execution_count": 153,
      "metadata": {
        "colab": {
          "base_uri": "https://localhost:8080/"
        },
        "id": "tH9kx640De_8",
        "outputId": "9a59ea91-ecbb-47aa-b8fa-582c06b0a492"
      },
      "outputs": [
        {
          "output_type": "execute_result",
          "data": {
            "text/plain": [
              "86"
            ]
          },
          "metadata": {},
          "execution_count": 153
        }
      ],
      "source": [
        "len(incorrect_predictions)  # number of incorrect predictions"
      ]
    },
    {
      "cell_type": "markdown",
      "metadata": {
        "id": "p2VDwQuEDe_8"
      },
      "source": [
        "### Visualizing Incorrect Predictions\n",
        "* **Display 24 of the incorrect images** labeled with each image’s index, predicted value (`p`) and expected value (`e`)\n",
        "* Before reading the **expected values**, look at each digit and write down what digit you think it is\n",
        "* This is an important part of **getting to know your data**\n",
        "<!--![24 incorrectly predicted digit images](./ch15images/incorrect24.png \"24 incorrectly predicted digit images\")-->\n",
        "\n",
        ""
      ]
    },
    {
      "cell_type": "code",
      "execution_count": 154,
      "metadata": {
        "colab": {
          "base_uri": "https://localhost:8080/",
          "height": 1000
        },
        "id": "2-VyMBoRDe_8",
        "outputId": "b17a3273-ef9c-4a33-8be6-ad73f62b1b75"
      },
      "outputs": [
        {
          "output_type": "display_data",
          "data": {
            "text/plain": [
              "<Figure size 1600x1200 with 24 Axes>"
            ],
            "image/png": "[encoded data removed]"
          },
          "metadata": {}
        }
      ],
      "source": [
        "figure, axes = plt.subplots(nrows=4, ncols=6, figsize=(16, 12))\n",
        "\n",
        "for axes, item in zip(axes.ravel(), incorrect_predictions):\n",
        "    index, image, predicted, expected = item\n",
        "    axes.imshow(image, cmap=plt.cm.gray_r)\n",
        "    axes.set_xticks([])  # remove x-axis tick marks\n",
        "    axes.set_yticks([])  # remove y-axis tick marks\n",
        "    axes.set_title(f'index: {index}\\np: {predicted}; e: {expected}')\n",
        "plt.tight_layout()"
      ]
    },
    {
      "cell_type": "markdown",
      "metadata": {
        "id": "sWoKhlCSDe_8"
      },
      "source": [
        "### Displaying the Probabilities for Several Incorrect Predictions\n",
        "* The following function displays the probabilities for the specified prediction array:"
      ]
    },
    {
      "cell_type": "code",
      "execution_count": 155,
      "metadata": {
        "id": "B-taNC2fDe_8"
      },
      "outputs": [],
      "source": [
        "def display_probabilities(prediction):\n",
        "    for index, probability in enumerate(prediction):\n",
        "        print(f'{index}: {probability:.10%}')"
      ]
    },
    {
      "cell_type": "markdown",
      "metadata": {
        "id": "Evmiv6L7De_9"
      },
      "source": [
        "* **Instructor Note:** Change the index values in the next three cells to specific indicies listed in the image output above"
      ]
    },
    {
      "cell_type": "code",
      "execution_count": 156,
      "metadata": {
        "colab": {
          "base_uri": "https://localhost:8080/"
        },
        "id": "JjTlQArqDe_9",
        "outputId": "0df6fdb7-7e50-495e-b6ae-89c4b925f38b"
      },
      "outputs": [
        {
          "output_type": "stream",
          "name": "stdout",
          "text": [
            "0: 0.0000000067%\n",
            "1: 0.0000107576%\n",
            "2: 0.0000000511%\n",
            "3: 99.9469399452%\n",
            "4: 0.0000000175%\n",
            "5: 0.0530545658%\n",
            "6: 0.0000009817%\n",
            "7: 0.0000010690%\n",
            "8: 0.0000042147%\n",
            "9: 0.0000002222%\n"
          ]
        }
      ],
      "source": [
        "display_probabilities(predictions[340])"
      ]
    },
    {
      "cell_type": "code",
      "execution_count": 157,
      "metadata": {
        "colab": {
          "base_uri": "https://localhost:8080/"
        },
        "id": "lgdI2YRPDe_9",
        "outputId": "72f8d211-1c53-42b7-fbb9-f758ddb71b17"
      },
      "outputs": [
        {
          "output_type": "stream",
          "name": "stdout",
          "text": [
            "0: 0.0002625614%\n",
            "1: 0.0028669854%\n",
            "2: 0.0046996749%\n",
            "3: 0.0012616607%\n",
            "4: 95.3276157379%\n",
            "5: 0.0002866260%\n",
            "6: 0.0003671106%\n",
            "7: 0.0127397827%\n",
            "8: 0.0020251060%\n",
            "9: 4.6478733420%\n"
          ]
        }
      ],
      "source": [
        "display_probabilities(predictions[740])"
      ]
    },
    {
      "cell_type": "code",
      "execution_count": 158,
      "metadata": {
        "colab": {
          "base_uri": "https://localhost:8080/"
        },
        "id": "96CddgWLDe_9",
        "outputId": "20f4e0f7-cf8d-4261-8b98-2a4a1702935d"
      },
      "outputs": [
        {
          "output_type": "stream",
          "name": "stdout",
          "text": [
            "0: 0.1731390366%\n",
            "1: 28.9140105247%\n",
            "2: 0.0719096803%\n",
            "3: 0.0312181975%\n",
            "4: 0.0002452620%\n",
            "5: 0.0237163142%\n",
            "6: 0.0013745684%\n",
            "7: 62.7785503864%\n",
            "8: 7.9538784921%\n",
            "9: 0.0519536727%\n"
          ]
        }
      ],
      "source": [
        "display_probabilities(predictions[1260])"
      ]
    },
    {
      "cell_type": "markdown",
      "metadata": {
        "id": "UkwjJdqgDe_9"
      },
      "source": [
        "## 16.6.6 Saving and Loading a Model\n",
        "* Can **save state** of a model\n",
        "* Can **load it later** to\n",
        "    * Make more predictions\n",
        "    * Train more\n",
        "    * Train for new problems\n",
        "    * **Transfer learning** to a new model\n",
        "    > https://towardsdatascience.com/transfer-learning-from-pre-trained-models-f2393f124751), [\\[2\\]](https://medium.com/nanonets/nanonets-how-to-use-deep-learning-when-you-have-limited-data-f68c0b512cab)"
      ]
    },
    {
      "cell_type": "markdown",
      "metadata": {
        "id": "tEqC5nIIDe_9"
      },
      "source": [
        "## 16.6.6 Saving and Loading a Model (cont.)\n",
        "* Can store **model architecture** and **state** in a **Hierarchical Data Format (HDF5)** file for later use"
      ]
    },
    {
      "cell_type": "code",
      "execution_count": 159,
      "metadata": {
        "id": "A90hj0JKDe_9"
      },
      "outputs": [],
      "source": [
        "cnn.save('mnist_cnn.h5')"
      ]
    },
    {
      "cell_type": "markdown",
      "metadata": {
        "id": "wjckvGHIDe_9"
      },
      "source": [
        "* Load a saved model\n",
        "\n",
        ">```python\n",
        "from tensorflow.keras.models import load_model\n",
        "cnn = load_model('mnist_cnn.h5')\n",
        "```\n",
        "\n",
        "* Can then invoke its methods\n",
        "    * Could call **`predict`** to make **additional predictions on new data**\n",
        "    * Could call **`fit`** to **train with additional data**\n",
        "* [Additional functions that enable you to **save and load various aspects of your models**](https://keras.io/getting-started/faq/#how-can-i-save-a-keras-model)"
      ]
    },
    {
      "cell_type": "markdown",
      "metadata": {
        "id": "7aOdUaKpDe_9"
      },
      "source": [
        "------\n",
        "&copy;1992&ndash;2020 by Pearson Education, Inc. All Rights Reserved. This content is based on Chapter 5 of the book [**Intro to Python for Computer Science and Data Science: Learning to Program with AI, Big Data and the Cloud**](https://amzn.to/2VvdnxE).\n",
        "\n",
        "DISCLAIMER: The authors and publisher of this book have used their\n",
        "best efforts in preparing the book. These efforts include the\n",
        "development, research, and testing of the theories and programs\n",
        "to determine their effectiveness. The authors and publisher make\n",
        "no warranty of any kind, expressed or implied, with regard to these\n",
        "programs or to the documentation contained in these books. The authors\n",
        "and publisher shall not be liable in any event for incidental or\n",
        "consequential damages in connection with, or arising out of, the\n",
        "furnishing, performance, or use of these programs.                  "
      ]
    }
  ],
  "metadata": {
    "celltoolbar": "Slideshow",
    "kernelspec": {
      "display_name": "Python 3",
      "language": "python",
      "name": "python3"
    },
    "language_info": {
      "codemirror_mode": {
        "name": "ipython",
        "version": 3
      },
      "file_extension": ".py",
      "mimetype": "text/x-python",
      "name": "python",
      "nbconvert_exporter": "python",
      "pygments_lexer": "ipython3",
      "version": "3.6.7"
    },
    "colab": {
      "provenance": [],
      "include_colab_link": true
    }
  },
  "nbformat": 4,
  "nbformat_minor": 0
}