{
  "cells": [
    {
      "cell_type": "markdown",
      "metadata": {
        "id": "view-in-github",
        "colab_type": "text"
      },
      "source": [
        "<a href=\"https://colab.research.google.com/github/madicodes231/Homework1/blob/main/Homework7.ipynb\" target=\"_parent\"><img src=\"https://colab.research.google.com/assets/colab-badge.svg\" alt=\"Open In Colab\"/></a>"
      ]
    },
    {
      "cell_type": "markdown",
      "metadata": {
        "id": "QqyFtVxy2Ks2"
      },
      "source": [
        "**Instructor Note:** The code in this notebook is in the file `MNIST_CNN.ipynb` in the student downloads\n",
        "\n",
        "# 16.6 Convolutional Neural Networks for Vision; Multi-Classification with the MNIST Dataset\n",
        "* **`MNIST` database of handwritten digits**\n",
        "    * “The MNIST Database.” MNIST Handwritten Digit Database, Yann LeCun, Corinna Cortes and Chris Burges. http://yann.lecun.com/exdb/mnist/.\n",
        "* Create a [**convolutional neural network**](https://en.wikipedia.org/wiki/Convolutional_neural_network) (also called a **convnet** or **CNN**)\n",
        "* Common in **computer-vision applications**\n",
        "    * Recognizing handwritten digits and characters\n",
        "    * Recognizing objects in images and video\n",
        "    * Self-driving cars\n",
        "* **Non-vision applications**\n",
        "    * natural-language processing\n",
        "    * recommender systems\n",
        "    * much more"
      ]
    },
    {
      "cell_type": "markdown",
      "metadata": {
        "id": "kytSHwFv2Ks4"
      },
      "source": [
        "# 16.6 Convolutional Neural Networks for Vision; Multi-Classification with the MNIST Dataset (cont.)\n",
        "* **60,000** labeled digit image samples for **training**, **10,000** for testing\n",
        "* **28-by-28 pixel images** (**784 features**), represented as **NumPy arrays**\n",
        "* **Grayscale pixel intensity** (shade) values **0-255**\n",
        "* **Convnet** will perform [**probabilistic classification**](https://en.wikipedia.org/wiki/Probabilistic_classification)\n",
        "\t* Model will output **10 probabilities** indicating likelihood a digit is **0-9**\n",
        "\t* **Highest probability** is the **predicted value**"
      ]
    },
    {
      "cell_type": "markdown",
      "metadata": {
        "id": "VQFQ5SKK2Ks4"
      },
      "source": [
        "### Reproducibility in Keras and Deep Learning\n",
        "* **Reproducibility is difficult** because the libraries **heavily parallelize floating-point calculations**\n",
        "* Each time calculations execute, they may execute in a **different order**\n",
        "* Can produce **different results** in each execution\n",
        "* See the [**Keras FAQ on reproducibility**](https://keras.io/getting-started/faq/#how-can-i-obtain-reproducible-results-using-keras-during-development)"
      ]
    },
    {
      "cell_type": "markdown",
      "metadata": {
        "id": "uJ-UYXvX2Ks4"
      },
      "source": [
        "### Building a Keras Neural Network\n",
        "* **Network** (also called a **model**)\n",
        "    * Sequence of layers containing the neurons used to learn from the samples\n",
        "    * Each layer’s neurons receive inputs, process them (via an **activation function**) and produce outputs\n",
        "    * The more layers you **stack**, the **deeper** the network is, hence the term **deep learning**\n",
        "* **Loss function**\n",
        "    * Produces a measure of **how well the network predicts target values**\n",
        "    * **Lower loss values** indicate **better predictions**\n",
        "* **Optimizer**\n",
        "    * Attempts to **minimize the values produced by the loss function** to **tune the network** to make better predictions"
      ]
    },
    {
      "cell_type": "markdown",
      "metadata": {
        "id": "GBOmn90t2Ks4"
      },
      "source": [
        "### Launch JupyterLab\n",
        "* Activate your `tf_env` Anaconda environment\n",
        "* Launch JupyterLab from the `ch15` examples folder"
      ]
    },
    {
      "cell_type": "markdown",
      "metadata": {
        "id": "v-2FnbW22Ks4"
      },
      "source": [
        "## 16.6.1 Loading the MNIST Dataset"
      ]
    },
    {
      "cell_type": "code",
      "execution_count": 34,
      "metadata": {
        "id": "4OREAhwX2Ks4"
      },
      "outputs": [],
      "source": [
        "from tensorflow.keras.datasets import fashion_mnist"
      ]
    },
    {
      "cell_type": "markdown",
      "metadata": {
        "id": "R8dqga4E2Ks5"
      },
      "source": [
        "* **`load_data` function** loads **training** and **testing sets**"
      ]
    },
    {
      "cell_type": "code",
      "execution_count": 35,
      "metadata": {
        "id": "B6oa_-Y42Ks5"
      },
      "outputs": [],
      "source": [
        "(X_train, y_train), (X_test, y_test) = fashion_mnist.load_data()"
      ]
    },
    {
      "cell_type": "markdown",
      "metadata": {
        "id": "LisiM7eQ2Ks5"
      },
      "source": [
        "## 16.6.2 Data Exploration\n",
        "* Check dimensions of the **training set images (`X_train`)**, **training set labels (`y_train`)**, **testing set images (`X_test`)** and **testing set labels (`y_test`)**:"
      ]
    },
    {
      "cell_type": "code",
      "execution_count": 36,
      "metadata": {
        "colab": {
          "base_uri": "https://localhost:8080/"
        },
        "id": "UXz9eeIu2Ks5",
        "outputId": "1adb426e-2e2a-40d5-86ef-39245eb3d9e5"
      },
      "outputs": [
        {
          "output_type": "execute_result",
          "data": {
            "text/plain": [
              "(60000, 28, 28)"
            ]
          },
          "metadata": {},
          "execution_count": 36
        }
      ],
      "source": [
        "X_train.shape"
      ]
    },
    {
      "cell_type": "code",
      "execution_count": 37,
      "metadata": {
        "colab": {
          "base_uri": "https://localhost:8080/"
        },
        "id": "JyVXMT9l2Ks6",
        "outputId": "24d56342-f2c1-493d-b865-e52b000c1c9c"
      },
      "outputs": [
        {
          "output_type": "execute_result",
          "data": {
            "text/plain": [
              "(60000,)"
            ]
          },
          "metadata": {},
          "execution_count": 37
        }
      ],
      "source": [
        "y_train.shape"
      ]
    },
    {
      "cell_type": "code",
      "execution_count": 38,
      "metadata": {
        "colab": {
          "base_uri": "https://localhost:8080/"
        },
        "id": "YZySQUmw2Ks6",
        "outputId": "058f6f24-0155-4a46-a5e8-0ae03e31eafd"
      },
      "outputs": [
        {
          "output_type": "execute_result",
          "data": {
            "text/plain": [
              "(10000, 28, 28)"
            ]
          },
          "metadata": {},
          "execution_count": 38
        }
      ],
      "source": [
        "X_test.shape"
      ]
    },
    {
      "cell_type": "code",
      "execution_count": 39,
      "metadata": {
        "colab": {
          "base_uri": "https://localhost:8080/"
        },
        "id": "e8Lg8EIK2Ks6",
        "outputId": "e77639d0-5ad4-4472-dfdb-845cfa410894"
      },
      "outputs": [
        {
          "output_type": "execute_result",
          "data": {
            "text/plain": [
              "(10000,)"
            ]
          },
          "metadata": {},
          "execution_count": 39
        }
      ],
      "source": [
        "y_test.shape"
      ]
    },
    {
      "cell_type": "markdown",
      "metadata": {
        "id": "P800dR702Ks6"
      },
      "source": [
        "### Visualizing Digits\n",
        "* Display 24 MNIST training set images"
      ]
    },
    {
      "cell_type": "code",
      "execution_count": 40,
      "metadata": {
        "id": "m8R9dlFi2Ks6"
      },
      "outputs": [],
      "source": [
        "%matplotlib inline"
      ]
    },
    {
      "cell_type": "code",
      "execution_count": 41,
      "metadata": {
        "id": "HOhBZkpz2Ks6"
      },
      "outputs": [],
      "source": [
        "import matplotlib.pyplot as plt"
      ]
    },
    {
      "cell_type": "code",
      "execution_count": 42,
      "metadata": {
        "id": "-hz4zXYh2Ks6"
      },
      "outputs": [],
      "source": [
        "import seaborn as sns"
      ]
    },
    {
      "cell_type": "code",
      "execution_count": 43,
      "metadata": {
        "id": "ILvW1muY2Ks6"
      },
      "outputs": [],
      "source": [
        "# sns.set(font_scale=2)"
      ]
    },
    {
      "cell_type": "markdown",
      "metadata": {
        "id": "iMOcTrAQ2Ks7"
      },
      "source": [
        "### Visualizing Digits\n",
        "* Run cell several times to view different digits and see **why handwritten digit recognition is a challenge**"
      ]
    },
    {
      "cell_type": "code",
      "execution_count": 44,
      "metadata": {
        "colab": {
          "base_uri": "https://localhost:8080/",
          "height": 906
        },
        "id": "MY1IU5Nz2Ks7",
        "outputId": "60327e8e-7d0b-4e61-c4a9-587b1d7995df"
      },
      "outputs": [
        {
          "output_type": "display_data",
          "data": {
            "text/plain": [
              "<Figure size 1600x900 with 24 Axes>"
            ],
            "image/png": "[encoded data removed]"
          },
          "metadata": {}
        }
      ],
      "source": [
        "import numpy as np\n",
        "index = np.random.choice(np.arange(len(X_train)), 24, replace=False)  # 24 indices\n",
        "figure, axes = plt.subplots(nrows=4, ncols=6, figsize=(16, 9))\n",
        "\n",
        "for item in zip(axes.ravel(), X_train[index], y_train[index]):\n",
        "    axes, image, target = item\n",
        "    axes.imshow(image, cmap=plt.cm.gray_r)\n",
        "    axes.set_xticks([])  # remove x-axis tick marks\n",
        "    axes.set_yticks([])  # remove y-axis tick marks\n",
        "    axes.set_title(target)\n",
        "\n",
        "plt.tight_layout()"
      ]
    },
    {
      "cell_type": "markdown",
      "metadata": {
        "id": "jU8Kyp142Ks7"
      },
      "source": [
        "## 16.6.3 Data Preparation\n",
        "* **Scikit-learn’s bundled datasets** were **preprocessed** into the **shapes its models required**\n",
        "* MNIST dataset **requires some preparation** for use in a Keras convnet"
      ]
    },
    {
      "cell_type": "markdown",
      "metadata": {
        "id": "utLU6c682Ks7"
      },
      "source": [
        "### Reshaping the Image Data\n",
        "* **Keras convnets** require **NumPy array inputs**\n",
        "* Each **sample** must have the **shape**\n",
        "> `(`**width**`,` **height**`,` **channels**`)`\n",
        "* Each pixel has **one channel** (grayscale shade 0-255), so sample shapes will be\n",
        "> **`(28, 28, 1)`**\n",
        "* As the **neural network learns** from the images, it **creates many more channels**\n",
        "    * These channels will **represent more complex features**, like **edges**, **curves** and **lines**\n",
        "    * Enable network to **recognize digits** based on these features and how they’re **combined**"
      ]
    },
    {
      "cell_type": "markdown",
      "metadata": {
        "id": "HHFhxOp92Ks7"
      },
      "source": [
        "### Reshaping the Image Data (cont.)\n",
        "* NumPy array method `reshape` receives a tuple representing the new shape"
      ]
    },
    {
      "cell_type": "code",
      "execution_count": 45,
      "metadata": {
        "id": "iJQQLbae2Ks7"
      },
      "outputs": [],
      "source": [
        "X_train = X_train.reshape((60000, 28, 28, 1))"
      ]
    },
    {
      "cell_type": "code",
      "execution_count": 46,
      "metadata": {
        "colab": {
          "base_uri": "https://localhost:8080/"
        },
        "id": "tNy576cK2Ks7",
        "outputId": "8e8d8b38-6ef0-44ca-d8ab-de89700fb369"
      },
      "outputs": [
        {
          "output_type": "execute_result",
          "data": {
            "text/plain": [
              "(60000, 28, 28, 1)"
            ]
          },
          "metadata": {},
          "execution_count": 46
        }
      ],
      "source": [
        "X_train.shape"
      ]
    },
    {
      "cell_type": "code",
      "execution_count": 47,
      "metadata": {
        "id": "Yarupz-f2Ks7"
      },
      "outputs": [],
      "source": [
        "X_test = X_test.reshape((10000, 28, 28, 1))"
      ]
    },
    {
      "cell_type": "code",
      "execution_count": 48,
      "metadata": {
        "colab": {
          "base_uri": "https://localhost:8080/"
        },
        "id": "-NhSk3Y42Ks7",
        "outputId": "0c3e2cfb-a5dc-4716-d0bc-3811e540e2b8"
      },
      "outputs": [
        {
          "output_type": "execute_result",
          "data": {
            "text/plain": [
              "(10000, 28, 28, 1)"
            ]
          },
          "metadata": {},
          "execution_count": 48
        }
      ],
      "source": [
        "X_test.shape"
      ]
    },
    {
      "cell_type": "markdown",
      "metadata": {
        "id": "BOVHE-jL2Ks7"
      },
      "source": [
        "### Normalizing the Image Data\n",
        "* **Numeric feature values** may vary widely\n",
        "* Deep learning networks **perform better** on data that's **normalized** into\n",
        "    * the range **0.0-1.0**, or\n",
        "    * a range for which the data’s **mean is 0.0** and its **standard deviation is 1.0**\n",
        "        * S. Ioffe and Szegedy, C., “Batch Normalization: Accelerating Deep Network Training by Reducing Internal Covariate Shift.” https://arxiv.org/abs/1502.03167\n",
        "* Divide **each pixel** value by **255** to normalize into the range **0.0-1.0**:"
      ]
    },
    {
      "cell_type": "code",
      "execution_count": 49,
      "metadata": {
        "id": "KaWafmTX2Ks8"
      },
      "outputs": [],
      "source": [
        "X_train = X_train.astype('float32') / 255"
      ]
    },
    {
      "cell_type": "code",
      "execution_count": 50,
      "metadata": {
        "id": "U1O8FDTg2Ks8"
      },
      "outputs": [],
      "source": [
        "X_test = X_test.astype('float32') / 255"
      ]
    },
    {
      "cell_type": "markdown",
      "metadata": {
        "id": "YKiuFcec2Ks8"
      },
      "source": [
        "### One-Hot Encoding: Convert Labels to Categorical Data\n",
        "* **Predictions** for each digit will be an **array of 10 probabilities**\n",
        "* To **evaluate model accuracy**, Keras **compares predictions to dataset's labels**\n",
        "    * Both must have the **same shape**\n",
        "    * MNIST labels are **individual integers 0-9**\n",
        "* Must **transform labels** into **categorical data arrays** matching the **prediction format**\n",
        "* Use [**one-hot encoding**](https://en.wikipedia.org/wiki/One-hot) to convert labels from integers into 10-element **arrays of 1.0s and 0.0s**\n",
        "    * **only one element is 1.0** and the **rest are 0.0s**\n",
        "* Categorical representation of a **7**\n",
        "> <pre>[0.0, 0.0, 0.0, 0.0, 0.0, 0.0, 0.0, <strong>1.0</strong>, 0.0, 0.0]</pre>\n",
        "* **`tensorflow.keras.utils`** function **`to_categorical`** performs **one-hot encoding**"
      ]
    },
    {
      "cell_type": "markdown",
      "metadata": {
        "id": "NrtbZnWc2Ks8"
      },
      "source": [
        "### One-Hot Encoding: Convert Labels to Categorical Data (cont.)\n",
        "* Transform **`y_train`** and **`y_test`** into **two-dimensional arrays of categorical data**"
      ]
    },
    {
      "cell_type": "code",
      "execution_count": 51,
      "metadata": {
        "id": "0yIGV09P2Ks8"
      },
      "outputs": [],
      "source": [
        "from tensorflow.keras.utils import to_categorical"
      ]
    },
    {
      "cell_type": "code",
      "execution_count": 52,
      "metadata": {
        "id": "oZf6_dfN2Ks8"
      },
      "outputs": [],
      "source": [
        "y_train = to_categorical(y_train)"
      ]
    },
    {
      "cell_type": "code",
      "execution_count": 53,
      "metadata": {
        "colab": {
          "base_uri": "https://localhost:8080/"
        },
        "id": "uzpnpv3r2Ks8",
        "outputId": "350f69ee-4961-49dd-93ed-3b5382c7502e"
      },
      "outputs": [
        {
          "output_type": "execute_result",
          "data": {
            "text/plain": [
              "(60000, 10)"
            ]
          },
          "metadata": {},
          "execution_count": 53
        }
      ],
      "source": [
        "y_train.shape"
      ]
    },
    {
      "cell_type": "code",
      "execution_count": 54,
      "metadata": {
        "colab": {
          "base_uri": "https://localhost:8080/"
        },
        "id": "ZmJf4kT_2Ks8",
        "outputId": "b578bde2-4e5f-470b-a5f7-8401436c8360"
      },
      "outputs": [
        {
          "output_type": "execute_result",
          "data": {
            "text/plain": [
              "array([0., 0., 0., 0., 0., 0., 0., 0., 0., 1.], dtype=float32)"
            ]
          },
          "metadata": {},
          "execution_count": 54
        }
      ],
      "source": [
        "y_train[0]  # one sample’s categorical data"
      ]
    },
    {
      "cell_type": "code",
      "execution_count": 55,
      "metadata": {
        "id": "kl9hfr0N2Ks8"
      },
      "outputs": [],
      "source": [
        "y_test = to_categorical(y_test)"
      ]
    },
    {
      "cell_type": "code",
      "execution_count": 56,
      "metadata": {
        "colab": {
          "base_uri": "https://localhost:8080/"
        },
        "id": "fpqZGKvS2Ks8",
        "outputId": "67622098-8a0d-4080-b3e4-0dba9d6976d9"
      },
      "outputs": [
        {
          "output_type": "execute_result",
          "data": {
            "text/plain": [
              "(10000, 10)"
            ]
          },
          "metadata": {},
          "execution_count": 56
        }
      ],
      "source": [
        "y_test.shape"
      ]
    },
    {
      "cell_type": "markdown",
      "metadata": {
        "id": "DvkP_bD62Ks9"
      },
      "source": [
        "## 16.6.4 Creating the Neural Network\n",
        "* Configure a **convolutional neural network**\n",
        "* **`Sequential` model** stacks layers to **execute sequentially**\n",
        "    * **output** of one layer becomes **input** to the next\n",
        "    * **Feed-forward network**\n",
        "    * Later, you’ll see that not all layers feed output to the next layer"
      ]
    },
    {
      "cell_type": "code",
      "execution_count": 57,
      "metadata": {
        "id": "dsPg1gWs2Ks9"
      },
      "outputs": [],
      "source": [
        "from tensorflow.keras.models import Sequential"
      ]
    },
    {
      "cell_type": "code",
      "execution_count": 58,
      "metadata": {
        "id": "gWkMILPR2Ks9"
      },
      "outputs": [],
      "source": [
        "cnn = Sequential()"
      ]
    },
    {
      "cell_type": "markdown",
      "metadata": {
        "id": "BpeT2JjQ2Ks9"
      },
      "source": [
        "### Adding Layers to the Network\n",
        "* A typical **convnet** consists of\n",
        "\t* **input layer** that receives **training samples**\n",
        "\t* **hidden layers** that **learn** from training samples\n",
        "\t* **output layer** that **produces predictions**\n",
        "* Import layer classes for a basic **convnet**"
      ]
    },
    {
      "cell_type": "code",
      "execution_count": 59,
      "metadata": {
        "id": "NwntEerZ2Ks9"
      },
      "outputs": [],
      "source": [
        "from tensorflow.keras.layers import Conv2D, Dense, Flatten, MaxPooling2D"
      ]
    },
    {
      "cell_type": "markdown",
      "metadata": {
        "id": "9wPaHIDN2Ks9"
      },
      "source": [
        "### Convolution (1 of 6)\n",
        "* We'll start with a **convolution layer**\n",
        "* Uses the **relationships between pixels in close proximity** to learn useful **features** (or patterns) in small areas of each sample\n",
        "* These **features** become **inputs** to **subsequent layers**"
      ]
    },
    {
      "cell_type": "markdown",
      "metadata": {
        "id": "hZ17Oxd72Ks-"
      },
      "source": [
        "### Convolution (cont.)\n",
        "* Examine convolution on a 6-by-6 image\n",
        "* **3-by-3 shaded square** represents the **kernel**\n",
        "* **Convolution** performs calculations that **learn** from kernel's **9** features, then **outputs 1 new feature**\n",
        "![Convolution diagram in which the 3-by-3 shaded square represents the kernel in its initial position](./ch16images/convolution.png \"Convolution diagram in which the 3-by-3 shaded square represents the kernel in its initial position\")"
      ]
    },
    {
      "cell_type": "markdown",
      "metadata": {
        "id": "POfSj5I62Ks-"
      },
      "source": [
        "### Convolution (cont.)\n",
        "* [**Kernels typically are 3-by-3**](https://www.quora.com/How-can-I-decide-the-kernel-size-output-maps-and-layers-of-CNN)\n",
        "    * We found convnets that used **5-by-5** and **7-by-7**\n",
        "    * Kernel-size is a **hyperparameter**\n",
        "* By looking at **features near one another**, the network begins to **recognize features**\n",
        "    * Like **edges**, **straight lines** and **curves**"
      ]
    },
    {
      "cell_type": "markdown",
      "metadata": {
        "id": "ETj3lMGG2Ks-"
      },
      "source": [
        "### Convolution (cont.)\n",
        "* Next, **convolution layer** moves **kernel one pixel to the right** (the **stride**)\n",
        "* **Overlaps** with previous kernel, so **convolution layer can learn** from all **features that touch one another**\n",
        "![Convolution diagram in which the 3-by-3 shaded square is moved one pixel to the right, overlapping with  of the three columns in the previous position](./ch16images/convolution2.png \"Convolution diagram in which the 3-by-3 shaded square is moved one pixel to the right, overlapping with  of the three columns in the previous position\")"
      ]
    },
    {
      "cell_type": "markdown",
      "metadata": {
        "id": "lfMNi4Tr2Ks-"
      },
      "source": [
        "### Convolution (cont.)\n",
        "* **Complete pass** left-to-right and top-to-bottom is called a **filter**\n",
        "* For a **3-by-3 kernel**, the filter dimensions will be **two less than the input dimensions**\n",
        "    * For each 28-by-28 MNIST image, the filter will be 26-by-26\n",
        "* **Number of filters** in the **convolutional layer** is commonly **32** or **64** for small images\n",
        "* Each filter produces different results\n",
        "* **Higher-resolution images** have **more features**, so they **require more filters**\n",
        "* [**Keras team’s pretrained convnets**](https://github.com/keras-team/keras-applications/tree/master/keras_applications) use 64, 128 or even 256 filters in their **first convolutional layers**"
      ]
    },
    {
      "cell_type": "markdown",
      "metadata": {
        "id": "lqv3YHHQ2Ks-"
      },
      "source": [
        "### Convolution (cont.)\n",
        "* **Set of filters** produced by a **convolution layer** is called a **feature map**\n",
        "* Subsequent **convolution layers** combine features from previous feature maps to **recognize larger features** and so on\n",
        "\t* In **facial recognition**, **early layers** might recognize **lines**, **edges** and **curves**, and **subsequent layers** might **combine** those into **features** like **eyes**, **eyebrows**, **noses**, **ears** and **mouths**\n",
        "* After **learning a feature**, a network can **recognize that feature anywhere** in the **image**\n",
        "    * One reason **convnets** are popular for **object recognition** in images"
      ]
    },
    {
      "cell_type": "markdown",
      "metadata": {
        "id": "0u7GYKBy2Ks-"
      },
      "source": [
        "### Adding a Convolution Layer\n",
        "* **`Conv2D`** implements the convolution layer"
      ]
    },
    {
      "cell_type": "code",
      "execution_count": 60,
      "metadata": {
        "id": "sYRWidZ82Ks-"
      },
      "outputs": [],
      "source": [
        "cnn.add(Conv2D(filters=64, kernel_size=(3, 3), activation='relu',\n",
        "               input_shape=(28, 28, 1)))"
      ]
    },
    {
      "cell_type": "markdown",
      "metadata": {
        "id": "SmEsuS2R2Ks-"
      },
      "source": [
        "* **`filters=64`**—The number of **filters** in the resulting **feature map**.\n",
        "* **`kernel_size=(3, 3)`**—The **size of the kernel** used in each **filter**\n",
        "* **`activation='relu'`**—**Rectified Linear Unit activation function** is used to produce this layer’s output\n",
        "    * **Most widely used activation function** (Chollet, François. _Deep Learning with Python_. p. 72. Shelter Island, NY: Manning Publications, 2018)\n",
        "    * [**Good for performance** because it’s **easy to calculate**](https://towardsdatascience.com/exploring-activation-functions-for-neural-networks-73498da59b02)\n",
        "    * [Commonly recommended for **convolutional layers**](https://www.quora.com/How-should-I-choose-a-proper-activation-function-for-the-neural-network)"
      ]
    },
    {
      "cell_type": "markdown",
      "metadata": {
        "id": "P1h3Nowy2Ks-"
      },
      "source": [
        "### Adding a Convolution Layer (cont.)\n",
        "* **First layer** in the model, so we specify the shape of each sample with `input_shape=(28, 28,1)`\n",
        "\t* Creates an **input layer** to **load the samples** and pass them into the **`Conv2D` layer**, which is actually the **first hidden layer**\n",
        "* Each subsequent layer **infers `input_shape`** from previous layer’s **output shape**\n",
        "    * Makes it easy to **stack** layers"
      ]
    },
    {
      "cell_type": "markdown",
      "metadata": {
        "id": "576C31vw2Ks_"
      },
      "source": [
        "### Dimensionality of the First Convolution Layer’s Output\n",
        "* Input samples are 28-by-28-by-1—that is, **784 features each**\n",
        "* Specified **64 filters** and a **3-by-3 kernel** for the layer, so the **feature map size is 26-by-26-by-64** for a total of **43,264 features**\n",
        "\t* **Significant increase in dimensionality**\n",
        "    * **Enormous** compared to numbers of features processed in our Machine Learning examples\n",
        "* As each layer adds features, feature map **dimensionality** grows significantly\n",
        "    * This is one of reason **deep learning** often requires **tremendous processing power**"
      ]
    },
    {
      "cell_type": "markdown",
      "metadata": {
        "id": "GceXS2De2Ks_"
      },
      "source": [
        "### Overfitting\n",
        "* Can occur when a **model is too complex** compared to what it is modeling\n",
        "* **Most extreme case**: Model **memorizes** its training data's features\n",
        "* **Overfitting** tends to occur in **deep learning** as the **dimensionality** becomes **too large** [\\[1\\]](https://cs231n.github.io/convolutional-networks/),[\\[2\\]](https://medium.com/@cxu24/why-dimensionality-reduction-is-important-dd60b5611543),[\\[3\\]](https://towardsdatascience.com/preventing-deep-neural-network-from-overfitting-953458db800a)\n",
        "* **Higher dimensionality** also increases (and sometimes explodes) **computation time**\n",
        "* For deep learning on **CPUs**, training could become **intolerably slow**\n",
        "* There are various techniques to **prevent overfitting** [\\[1\\]](https://towardsdatascience.com/deep-learning-3-more-on-cnns-handling-overfitting-2bd5d99abe5d), [\\[2\\]](https://www.kdnuggets.com/2015/04/preventing-overfitting-neural-networks.html) &mdash; we'll use **pooling**"
      ]
    },
    {
      "cell_type": "markdown",
      "metadata": {
        "id": "6c69Ejaa2Ks_"
      },
      "source": [
        "### Adding a Pooling Layer\n",
        "* To **reduce overfitting** and **computation time**, a **convolution layer** is often followed by one or more layers that **reduce dimensionality** of **convolution layer’s output**\n",
        "* **Pooling compresses** (or **down-samples**) the results by **discarding features**\n",
        "    * Helps make the model **more general**\n",
        "* **Most common pooling technique** is called **max pooling**\n",
        "\t* Examines a 2-by-2 square of features and keeps only the maximum feature."
      ]
    },
    {
      "cell_type": "markdown",
      "metadata": {
        "id": "EjAjdjni2Ks_"
      },
      "source": [
        "### Adding a Pooling Layer (cont.)\n",
        "* 2-by-2 blue square in position 1 represents the initial pool of features to examine:\n",
        "\n",
        "![Max pooling diagram showing the 6-by-6 set of numeric values we wish to compress with the 2-by-2 blue square in position 1 representing the initial pool of features to examine, and the 3-by-3 square representing the results of max pooling](./ch16images/pooling.png \"Max pooling diagram showing the 6-by-6 set of numeric values we wish to compress with the 2-by-2 blue square in position 1 representing the initial pool of features to examine, and the 3-by-3 square representing the results of max pooling\")z"
      ]
    },
    {
      "cell_type": "markdown",
      "metadata": {
        "id": "Tm4_YzhZ2Ks_"
      },
      "source": [
        "### Adding a Pooling Layer (cont.)\n",
        "* Outputs **maximum feature** from each pool\n",
        "* **Pools do not overlap**\n",
        "* **Stride** for a 2-by-2 pool is **2**\n",
        "* Every group of four features is reduced to one, so 2-by-2 pooling **compresses** number of features by **75%**\n",
        "* Reduces previous layer’s output from **26-by-26-by-64** to **13-by-13-by-64**"
      ]
    },
    {
      "cell_type": "code",
      "execution_count": 61,
      "metadata": {
        "id": "DJ3HqYYI2Ks_"
      },
      "outputs": [],
      "source": [
        "cnn.add(MaxPooling2D(pool_size=(2, 2)))"
      ]
    },
    {
      "cell_type": "markdown",
      "metadata": {
        "id": "gDHXX-xH2Ks_"
      },
      "source": [
        "### Adding Another Convolutional Layer and Pooling Layer\n",
        "* **Convnets** often have **many convolution and pooling layers**.\n",
        "* [Keras team’s convnets](https://github.com/keras-team/keras-applications/tree/master/keras_applications) tend to **double** the number of **filters** in subsequent **convolutional layers** to enable the models to learn more relationships between the features"
      ]
    },
    {
      "cell_type": "code",
      "execution_count": 62,
      "metadata": {
        "id": "2AKE-t8i2Ks_"
      },
      "outputs": [],
      "source": [
        "cnn.add(Conv2D(filters=128, kernel_size=(3, 3), activation='relu'))"
      ]
    },
    {
      "cell_type": "code",
      "execution_count": 63,
      "metadata": {
        "id": "zU6th_nT2Ks_"
      },
      "outputs": [],
      "source": [
        "cnn.add(MaxPooling2D(pool_size=(2, 2)))"
      ]
    },
    {
      "cell_type": "markdown",
      "metadata": {
        "id": "a1YrShYI2Ks_"
      },
      "source": [
        "* **Input** to the **second convolution layer** is the 13-by-13-by-64 **output of the first pooling layer**\n",
        "* **Output** of this **Conv2D layer** will be **11-by-11-by-128**\n",
        "* For **odd dimensions** like 11-by-11, **Keras pooling layers round down** by default (in this case to 10-by-10), so this pooling layer’s **output** will be **5-by-5-by-128**"
      ]
    },
    {
      "cell_type": "markdown",
      "metadata": {
        "id": "0RofLv6e2KtA"
      },
      "source": [
        "### Flattening the Results\n",
        "* Model's **final output** will be a **one-dimensional** array of 10 probabilities that classify the digits\n",
        "* To prepare for **one-dimensional final predictions**, need to **flatten** the previous layer’s output to **one dimension**\n",
        "* **`Flatten`** layer's output will be **1-by-3200** (5 &#215; 5 &#215; 128)"
      ]
    },
    {
      "cell_type": "code",
      "execution_count": 64,
      "metadata": {
        "id": "-XtP0V_m2KtA"
      },
      "outputs": [],
      "source": [
        "cnn.add(Flatten())"
      ]
    },
    {
      "cell_type": "markdown",
      "metadata": {
        "id": "91lCM-mD2KtA"
      },
      "source": [
        "### Adding a Dense Layer to Reduce the Number of Features\n",
        "* Layers before the **`Flatten`** layer **learned digit features**\n",
        "* Now must **learn the relationships among those features** to **classify** which digit each image represents\n",
        "* Accomplished with **fully connected `Dense` layers**\n",
        "* The following **`Dense` layer** creates **128 neurons (`units`)** that **learn** from the 3200 outputs of the previous layer"
      ]
    },
    {
      "cell_type": "code",
      "execution_count": 65,
      "metadata": {
        "id": "0ZwGIicA2KtA"
      },
      "outputs": [],
      "source": [
        "cnn.add(Dense(units=128, activation='relu'))"
      ]
    },
    {
      "cell_type": "markdown",
      "metadata": {
        "id": "yKQyUWjD2KtA"
      },
      "source": [
        "* Many **convnets** contain **at least one `Dense` layer**\n",
        "* **Convnets** geared to more complex image datasets with higher-resolution images like [**ImageNet**](http://www.image-net.org)—a dataset of over 14 million images—often have **several `Dense` layers**, commonly with **4096 neurons**\n",
        "* See the [Keras pretrained ImageNet convnets' code](https://github.com/keras-team/keras-applications/tree/master/keras_applications)"
      ]
    },
    {
      "cell_type": "markdown",
      "metadata": {
        "id": "Xbgwi5fm2KtA"
      },
      "source": [
        "### Adding Another Dense Layer to Produce the Final Output\n",
        "* Final **`Dense`** layer **classifies** inputs into **neurons** representing the classes **0-9**\n",
        "* The **`softmax` activation function** converts values of these 10 neurons into **classification probabilities**\n",
        "* **Neuron** with **highest probability** represents the **prediction** for a given digit image"
      ]
    },
    {
      "cell_type": "code",
      "execution_count": 66,
      "metadata": {
        "id": "OLyyewtN2KtA"
      },
      "outputs": [],
      "source": [
        "cnn.add(Dense(units=10, activation='softmax'))"
      ]
    },
    {
      "cell_type": "markdown",
      "metadata": {
        "id": "UDD0WhiG2KtA"
      },
      "source": [
        "### Printing the Model’s Summary\n",
        "* Use model’s **`summary`** method\n",
        "* Note layers' **output shapes** and **numbers of parameters**\n",
        "* **Parameters** are the **weights** that the network **learns** during training [\\[1\\]](https://hackernoon.com/everything-you-need-to-know-about-neural-networks-8988c3ee4491),[\\[2\\]](https://www.kdnuggets.com/2018/06/deep-learning-best-practices-weight-initialization.html)\n",
        "* **Relatively small network**, but needs to **learn nearly 500,000 parameters**!\n",
        "\t* This is for **tiny images** that are less than 1/4 the size of icons on smartphone home screens\n",
        "\t* Imagine how many features a network would have to learn to process high-resolution 4K video frames or the super-high-resolution images produced by today’s digital cameras\n",
        "* In the **`Output Shape`** column, **`None`** means the model does not know in advance how many training samples you’re going to provide"
      ]
    },
    {
      "cell_type": "code",
      "execution_count": 67,
      "metadata": {
        "colab": {
          "base_uri": "https://localhost:8080/"
        },
        "id": "sUpsNGPI2KtA",
        "outputId": "7768ea20-32aa-40b2-8286-6c606208ac0c"
      },
      "outputs": [
        {
          "output_type": "stream",
          "name": "stdout",
          "text": [
            "Model: \"sequential_1\"\n",
            "_________________________________________________________________\n",
            " Layer (type)                Output Shape              Param #   \n",
            "=================================================================\n",
            " conv2d_1 (Conv2D)           (None, 26, 26, 64)        640       \n",
            "                                                                 \n",
            " max_pooling2d (MaxPooling2  (None, 13, 13, 64)        0         \n",
            " D)                                                              \n",
            "                                                                 \n",
            " conv2d_2 (Conv2D)           (None, 11, 11, 128)       73856     \n",
            "                                                                 \n",
            " max_pooling2d_1 (MaxPoolin  (None, 5, 5, 128)         0         \n",
            " g2D)                                                            \n",
            "                                                                 \n",
            " flatten (Flatten)           (None, 3200)              0         \n",
            "                                                                 \n",
            " dense_1 (Dense)             (None, 128)               409728    \n",
            "                                                                 \n",
            " dense_2 (Dense)             (None, 10)                1290      \n",
            "                                                                 \n",
            "=================================================================\n",
            "Total params: 485514 (1.85 MB)\n",
            "Trainable params: 485514 (1.85 MB)\n",
            "Non-trainable params: 0 (0.00 Byte)\n",
            "_________________________________________________________________\n"
          ]
        }
      ],
      "source": [
        "cnn.summary()"
      ]
    },
    {
      "cell_type": "markdown",
      "metadata": {
        "id": "Hocp_XbY2KtB"
      },
      "source": [
        "### Visualizing a Model’s Structure\n",
        "* Use the **`plot_model` function** from module `tensorflow.keras.utils`"
      ]
    },
    {
      "cell_type": "code",
      "execution_count": 68,
      "metadata": {
        "colab": {
          "base_uri": "https://localhost:8080/",
          "height": 865
        },
        "id": "Zqyb5TdU2KtB",
        "outputId": "486b7df6-2f94-4f63-a1b7-db672f8aafe9"
      },
      "outputs": [
        {
          "output_type": "execute_result",
          "data": {
            "image/png": "[encoded data removed]",
            "text/plain": [
              "<IPython.core.display.Image object>"
            ]
          },
          "metadata": {},
          "execution_count": 68
        }
      ],
      "source": [
        "from tensorflow.keras.utils import plot_model\n",
        "from IPython.display import Image\n",
        "plot_model(cnn, to_file='convnet.png', show_shapes=True,\n",
        "           show_layer_names=True)\n",
        "Image(filename='convnet.png')  # display resulting image in notebook"
      ]
    },
    {
      "cell_type": "markdown",
      "metadata": {
        "id": "LVC7YXRr2KtB"
      },
      "source": [
        "### Compiling the Model\n",
        "* Complete the model by calling its **`compile` method**"
      ]
    },
    {
      "cell_type": "code",
      "execution_count": 69,
      "metadata": {
        "id": "7V3tIdXe2KtB"
      },
      "outputs": [],
      "source": [
        "cnn.compile(optimizer='adam',\n",
        "            loss='categorical_crossentropy',\n",
        "            metrics=['accuracy'])"
      ]
    },
    {
      "cell_type": "markdown",
      "metadata": {
        "id": "sLGNfajc2KtB"
      },
      "source": [
        "### Compiling the Model (cont.)\n",
        "* **`optimizer='adam'`**—The **optimizer** this model uses to **adjust the weights** throughout the neural network **as it learns**\n",
        "\t* [**Keras optimizers**](https://keras.io/optimizers/)\n",
        "\t* `'adam'` performs well across a wide variety of models [\\[1\\]](https://medium.com/octavian-ai/which-optimizer-and-learning-rate-should-i-use-for-deep-learning-5acb418f9b2),[\\[2\\]](https://towardsdatascience.com/types-of-optimization-algorithms-used-in-neural-networks-and-ways-to-optimize-gradient-95ae5d39529f)"
      ]
    },
    {
      "cell_type": "markdown",
      "metadata": {
        "id": "Ofj5uN532KtB"
      },
      "source": [
        "### Compiling the Model (cont.)\n",
        "* **`loss='categorical_crossentropy'`**—The **loss function** used by the optimizer in **multi-classification networks** (ours predicts 10 classes)\n",
        "\t* **Optimizer** attempts to **minimize the values returned by the loss function**\n",
        "\t* For **binary classification**, Keras provides **`'binary_crossentropy'`**, and for **regression**, **`'mean_squared_error'`**\n",
        "\t* [Other loss functions](https://keras.io/losses/)"
      ]
    },
    {
      "cell_type": "markdown",
      "metadata": {
        "id": "04HQNRBO2KtB"
      },
      "source": [
        "### Compiling the Model (cont.)\n",
        "* **`metrics=['accuracy']`**—List of **metrics** the network will produce to help you **evaluate the model**\n",
        "\t* **Accuracy** commonly used in **classification models**\n",
        "\t* We’ll use it to check **percentage of correct predictions**\n",
        "\t* [Other metrics](https://keras.io/metrics/)"
      ]
    },
    {
      "cell_type": "markdown",
      "metadata": {
        "id": "exk95US-2KtB"
      },
      "source": [
        "## 15.6.5 Training and Evaluating the Model\n",
        "* **Train a Keras model** by calling its **`fit` method**\n",
        "```python\n",
        "cnn.fit(X_train, y_train, epochs=5, batch_size=64, validation_split=0.1)\n",
        "```\n",
        "* **`epochs=5`**&mdash;train neural networks iteratively over time\n",
        "    * Each **`epoch`** processes **every training dataset sample** once\n",
        "    * **Hyperparameter** that may need tuning\n",
        "* **`batch_size=64`**&mdash;**number of samples to process at a time**\n",
        "    * Most models specify a **power of 2 from 32 to 512**\n",
        "* [**`validation_split=0.1`**&mdash;model should reserve the **last** 10% of the training samples for validation](https://keras.io/getting-started/faq/#how-is-the-validation-split-computed)\n",
        "\t* After each **epoch**, model uses validation samples to **make predictions** and display the **validation loss and accuracy**\n",
        "    * Use **tune your layers** and the **`fit` method’s hyperparameters**, or possibly change the **layer composition** of your model\n",
        "    * Can specify **separate validation data** with **`validation_data` argument**"
      ]
    },
    {
      "cell_type": "markdown",
      "metadata": {
        "id": "oDUK5l0T2KtB"
      },
      "source": [
        "## 15.6.5 Training and Evaluating the Model (cont.)\n",
        "* Model took about 5 minutes to train on our CPU.\n",
        "* **Lecture note: Play convnet timelapse video here**"
      ]
    },
    {
      "cell_type": "code",
      "execution_count": 70,
      "metadata": {
        "colab": {
          "base_uri": "https://localhost:8080/"
        },
        "id": "Cu2Rdv8_2KtB",
        "outputId": "6aa58393-d2d8-424b-dd05-6cb1c107eaae"
      },
      "outputs": [
        {
          "output_type": "stream",
          "name": "stdout",
          "text": [
            "Epoch 1/5\n",
            "844/844 [==============================] - 70s 82ms/step - loss: 0.4663 - accuracy: 0.8299 - val_loss: 0.3329 - val_accuracy: 0.8740\n",
            "Epoch 2/5\n",
            "844/844 [==============================] - 68s 80ms/step - loss: 0.3058 - accuracy: 0.8875 - val_loss: 0.2812 - val_accuracy: 0.8980\n",
            "Epoch 3/5\n",
            "844/844 [==============================] - 68s 81ms/step - loss: 0.2565 - accuracy: 0.9052 - val_loss: 0.2569 - val_accuracy: 0.9053\n",
            "Epoch 4/5\n",
            "844/844 [==============================] - 68s 81ms/step - loss: 0.2216 - accuracy: 0.9187 - val_loss: 0.2546 - val_accuracy: 0.9042\n",
            "Epoch 5/5\n",
            "844/844 [==============================] - 67s 80ms/step - loss: 0.1947 - accuracy: 0.9278 - val_loss: 0.2442 - val_accuracy: 0.9110\n"
          ]
        },
        {
          "output_type": "execute_result",
          "data": {
            "text/plain": [
              "<keras.src.callbacks.History at 0x7e529c049b10>"
            ]
          },
          "metadata": {},
          "execution_count": 70
        }
      ],
      "source": [
        "cnn.fit(X_train, y_train, epochs=5, batch_size=64, validation_split=0.1)"
      ]
    },
    {
      "cell_type": "markdown",
      "metadata": {
        "id": "UEtnVdNy2KtC"
      },
      "source": [
        "## 15.6.5 Training and Evaluating the Model (cont.)\n",
        "* As training proceeds, **`fit`** shows the **progress** of each **epoch**, **how long** the epoch took to execute, and the **evaluation metrics** for that epoch\n",
        "* Impressive **training accuracy (`acc`**) and **validation accurracy (`acc`)**, given that **we have not yet tried to tune the hyperparameters** or **tweak the number and types of the layers**"
      ]
    },
    {
      "cell_type": "markdown",
      "metadata": {
        "id": "v6Te6NFz2KtC"
      },
      "source": [
        "### Evaluating the Model on Unseen Data with Model’s **`evaluate` Method**"
      ]
    },
    {
      "cell_type": "code",
      "execution_count": 71,
      "metadata": {
        "colab": {
          "base_uri": "https://localhost:8080/"
        },
        "id": "qqGsqYVC2KtC",
        "outputId": "7211a9ff-f5a6-4496-dd53-96f5df9cc63e"
      },
      "outputs": [
        {
          "output_type": "stream",
          "name": "stdout",
          "text": [
            "313/313 [==============================] - 4s 12ms/step - loss: 0.2593 - accuracy: 0.9097\n"
          ]
        }
      ],
      "source": [
        "loss, accuracy = cnn.evaluate(X_test, y_test)"
      ]
    },
    {
      "cell_type": "code",
      "execution_count": 72,
      "metadata": {
        "colab": {
          "base_uri": "https://localhost:8080/"
        },
        "id": "x4jBdu9j2KtC",
        "outputId": "efa78056-12fb-43ab-f4b9-9a49da3271ce"
      },
      "outputs": [
        {
          "output_type": "execute_result",
          "data": {
            "text/plain": [
              "0.2593281865119934"
            ]
          },
          "metadata": {},
          "execution_count": 72
        }
      ],
      "source": [
        "loss"
      ]
    },
    {
      "cell_type": "code",
      "execution_count": 73,
      "metadata": {
        "colab": {
          "base_uri": "https://localhost:8080/"
        },
        "id": "rzfNCED22KtC",
        "outputId": "6721dc2e-6d32-4ab4-c1ed-b923c3f5dbe0"
      },
      "outputs": [
        {
          "output_type": "execute_result",
          "data": {
            "text/plain": [
              "0.9096999764442444"
            ]
          },
          "metadata": {},
          "execution_count": 73
        }
      ],
      "source": [
        "accuracy"
      ]
    },
    {
      "cell_type": "markdown",
      "metadata": {
        "id": "8tZd9l-g2KtC"
      },
      "source": [
        "* Without tuning, our **convnet model** is **99+% accurate** for **unseen data samples**\n",
        "    * Can find models online that predict MNIST with even **higher accuracy**\n",
        "    * **Experiment** with different numbers of layers, types of layers and layer parameters and observe how those changes affect your results"
      ]
    },
    {
      "cell_type": "markdown",
      "metadata": {
        "id": "cDAo1lqy2KtC"
      },
      "source": [
        "### Making Predictions with the Model’s **`predict` Method**"
      ]
    },
    {
      "cell_type": "code",
      "execution_count": 74,
      "metadata": {
        "colab": {
          "base_uri": "https://localhost:8080/"
        },
        "id": "utowhDDu2KtC",
        "outputId": "79a6c3cd-7f10-47a9-b720-e604e8674984"
      },
      "outputs": [
        {
          "output_type": "stream",
          "name": "stdout",
          "text": [
            "313/313 [==============================] - 4s 13ms/step\n"
          ]
        }
      ],
      "source": [
        "predictions = cnn.predict(X_test)"
      ]
    },
    {
      "cell_type": "markdown",
      "metadata": {
        "id": "MhEaN8Lg2KtC"
      },
      "source": [
        "* The first digit should be a 7 (shown as `1.` at index 7)"
      ]
    },
    {
      "cell_type": "code",
      "execution_count": 75,
      "metadata": {
        "colab": {
          "base_uri": "https://localhost:8080/"
        },
        "id": "WnDLLXeJ2KtD",
        "outputId": "da636832-fb89-43cf-e849-73e6ab13020b"
      },
      "outputs": [
        {
          "output_type": "execute_result",
          "data": {
            "text/plain": [
              "array([0., 0., 0., 0., 0., 0., 0., 0., 0., 1.], dtype=float32)"
            ]
          },
          "metadata": {},
          "execution_count": 75
        }
      ],
      "source": [
        "y_test[0]"
      ]
    },
    {
      "cell_type": "markdown",
      "metadata": {
        "id": "rNCOeqVL2KtD"
      },
      "source": [
        "* Check the **probabilities** returned by **`predict`** for **first test sample**"
      ]
    },
    {
      "cell_type": "code",
      "execution_count": 76,
      "metadata": {
        "colab": {
          "base_uri": "https://localhost:8080/"
        },
        "id": "mDbvFR9C2KtD",
        "outputId": "fa1900f7-bb06-4abf-d44f-c28e42a8245e"
      },
      "outputs": [
        {
          "output_type": "stream",
          "name": "stdout",
          "text": [
            "0: 0.0000258414%\n",
            "1: 0.0000003371%\n",
            "2: 0.0000047532%\n",
            "3: 0.0000010907%\n",
            "4: 0.0000069383%\n",
            "5: 0.0235543455%\n",
            "6: 0.0000014888%\n",
            "7: 0.0143441255%\n",
            "8: 0.0000489486%\n",
            "9: 99.9620139599%\n"
          ]
        }
      ],
      "source": [
        "for index, probability in enumerate(predictions[0]):\n",
        "    print(f'{index}: {probability:.10%}')"
      ]
    },
    {
      "cell_type": "markdown",
      "metadata": {
        "id": "k9z808Lv2KtD"
      },
      "source": [
        "* Our model believes this digit is a 7 with **nearly** 100% certainty\n",
        "* Not all predictions have this level of certainty"
      ]
    },
    {
      "cell_type": "markdown",
      "metadata": {
        "id": "CtrRFoVP2KtD"
      },
      "source": [
        "### Locating the Incorrect Predictions\n",
        "* View some **incorrectly predicted images** to get a sense of digits **our model has trouble with**\n",
        "\t* If the model always mispredicts 8s, perhaps we need more 8s in our training data\n",
        "* To determine whether a prediction was correct, compare the index of the largest probability in `predictions[0]` to the index of the element containing **`1.0` in `y_test[0]`**\n",
        "\t* If **indices** are the same, **prediction was correct**"
      ]
    },
    {
      "cell_type": "markdown",
      "metadata": {
        "id": "RPu4VsGZ2KtD"
      },
      "source": [
        "### Locating the Incorrect Predictions (cont.)\n",
        "* **Reshape the samples** from the shape `(28, 28, 1)` that Keras required for learning back to `(28, 28)`, which **Matplotlib requires to display the images**"
      ]
    },
    {
      "cell_type": "code",
      "execution_count": 77,
      "metadata": {
        "id": "q1m-Dfvq2KtD"
      },
      "outputs": [],
      "source": [
        "images = X_test.reshape((10000, 28, 28))"
      ]
    },
    {
      "cell_type": "code",
      "execution_count": 78,
      "metadata": {
        "id": "ljsbjRzz2KtD"
      },
      "outputs": [],
      "source": [
        "incorrect_predictions = []"
      ]
    },
    {
      "cell_type": "markdown",
      "metadata": {
        "id": "qDnBvG482KtD"
      },
      "source": [
        "* In the following snippet, **`p`** is the **predicted value array**, and **`e`** is the **expected value array**\n",
        "* **NumPy’s `argmax` function** determines **index** of an array’s **highest valued element**"
      ]
    },
    {
      "cell_type": "code",
      "execution_count": 79,
      "metadata": {
        "id": "jzUO1XT62KtD"
      },
      "outputs": [],
      "source": [
        "for i, (p, e) in enumerate(zip(predictions, y_test)):\n",
        "    predicted, expected = np.argmax(p), np.argmax(e)\n",
        "\n",
        "    if predicted != expected:  # prediction was incorrect\n",
        "        incorrect_predictions.append(\n",
        "            (i, images[i], predicted, expected))"
      ]
    },
    {
      "cell_type": "code",
      "execution_count": 80,
      "metadata": {
        "colab": {
          "base_uri": "https://localhost:8080/"
        },
        "id": "UYQR4NDE2KtD",
        "outputId": "1f681b2a-a62a-4a82-d4d3-83474e7d8e56"
      },
      "outputs": [
        {
          "output_type": "execute_result",
          "data": {
            "text/plain": [
              "903"
            ]
          },
          "metadata": {},
          "execution_count": 80
        }
      ],
      "source": [
        "len(incorrect_predictions)  # number of incorrect predictions"
      ]
    },
    {
      "cell_type": "markdown",
      "metadata": {
        "id": "xxtUpQTC2KtE"
      },
      "source": [
        "### Visualizing Incorrect Predictions\n",
        "* **Display 24 of the incorrect images** labeled with each image’s index, predicted value (`p`) and expected value (`e`)\n",
        "* Before reading the **expected values**, look at each digit and write down what digit you think it is\n",
        "* This is an important part of **getting to know your data**\n",
        "<!--![24 incorrectly predicted digit images](./ch15images/incorrect24.png \"24 incorrectly predicted digit images\")-->\n",
        "\n"
      ]
    },
    {
      "cell_type": "code",
      "execution_count": 81,
      "metadata": {
        "colab": {
          "base_uri": "https://localhost:8080/",
          "height": 1000
        },
        "id": "0Gd9MP-Y2KtE",
        "outputId": "13074cb1-dd5d-4e7f-aee7-20d7f87c2f7d"
      },
      "outputs": [
        {
          "output_type": "display_data",
          "data": {
            "text/plain": [
              "<Figure size 1600x1200 with 24 Axes>"
            ],
            "image/png": "[encoded data removed]"
          },
          "metadata": {}
        }
      ],
      "source": [
        "figure, axes = plt.subplots(nrows=4, ncols=6, figsize=(16, 12))\n",
        "\n",
        "for axes, item in zip(axes.ravel(), incorrect_predictions):\n",
        "    index, image, predicted, expected = item\n",
        "    axes.imshow(image, cmap=plt.cm.gray_r)\n",
        "    axes.set_xticks([])  # remove x-axis tick marks\n",
        "    axes.set_yticks([])  # remove y-axis tick marks\n",
        "    axes.set_title(f'index: {index}\\np: {predicted}; e: {expected}')\n",
        "plt.tight_layout()"
      ]
    },
    {
      "cell_type": "markdown",
      "metadata": {
        "id": "YLB6aaV62KtE"
      },
      "source": [
        "### Displaying the Probabilities for Several Incorrect Predictions\n",
        "* The following function displays the probabilities for the specified prediction array:"
      ]
    },
    {
      "cell_type": "code",
      "execution_count": 82,
      "metadata": {
        "id": "2_75A3Iq2KtE"
      },
      "outputs": [],
      "source": [
        "def display_probabilities(prediction):\n",
        "    for index, probability in enumerate(prediction):\n",
        "        print(f'{index}: {probability:.10%}')"
      ]
    },
    {
      "cell_type": "markdown",
      "metadata": {
        "id": "u0dEpuen2KtE"
      },
      "source": [
        "* **Instructor Note:** Change the index values in the next three cells to specific indicies listed in the image output above"
      ]
    },
    {
      "cell_type": "code",
      "execution_count": 83,
      "metadata": {
        "colab": {
          "base_uri": "https://localhost:8080/"
        },
        "id": "dTG6NTkz2KtE",
        "outputId": "ad052242-9d7e-4f1e-de5a-5490d3eb9696"
      },
      "outputs": [
        {
          "output_type": "stream",
          "name": "stdout",
          "text": [
            "0: 0.0165694175%\n",
            "1: 0.0573486672%\n",
            "2: 5.1224902272%\n",
            "3: 0.0085352098%\n",
            "4: 94.1183447838%\n",
            "5: 0.0009063810%\n",
            "6: 0.5153719801%\n",
            "7: 0.0001002763%\n",
            "8: 0.1534571056%\n",
            "9: 0.0068695190%\n"
          ]
        }
      ],
      "source": [
        "display_probabilities(predictions[340])"
      ]
    },
    {
      "cell_type": "code",
      "execution_count": 84,
      "metadata": {
        "colab": {
          "base_uri": "https://localhost:8080/"
        },
        "id": "csxQ5KkJ2KtE",
        "outputId": "a9b9c450-eaac-4bf6-98f4-c6e580dd1b34"
      },
      "outputs": [
        {
          "output_type": "stream",
          "name": "stdout",
          "text": [
            "0: 0.1520922058%\n",
            "1: 0.0013381612%\n",
            "2: 0.0073752184%\n",
            "3: 99.0721225739%\n",
            "4: 0.1969061326%\n",
            "5: 0.0057708341%\n",
            "6: 0.5203845445%\n",
            "7: 0.0042432119%\n",
            "8: 0.0056003886%\n",
            "9: 0.0341603416%\n"
          ]
        }
      ],
      "source": [
        "display_probabilities(predictions[740])"
      ]
    },
    {
      "cell_type": "code",
      "execution_count": 85,
      "metadata": {
        "colab": {
          "base_uri": "https://localhost:8080/"
        },
        "id": "voK92qyt2KtE",
        "outputId": "cbe57dfd-696f-42ae-e2d5-994918eb0b5e"
      },
      "outputs": [
        {
          "output_type": "stream",
          "name": "stdout",
          "text": [
            "0: 97.3117589951%\n",
            "1: 0.0001743171%\n",
            "2: 0.0020569947%\n",
            "3: 0.0044909233%\n",
            "4: 0.0005119786%\n",
            "5: 0.0004010978%\n",
            "6: 2.6801573113%\n",
            "7: 0.0000024635%\n",
            "8: 0.0004060836%\n",
            "9: 0.0000442762%\n"
          ]
        }
      ],
      "source": [
        "display_probabilities(predictions[1260])"
      ]
    },
    {
      "cell_type": "markdown",
      "metadata": {
        "id": "0xhDLhEB2KtE"
      },
      "source": [
        "## 16.6.6 Saving and Loading a Model\n",
        "* Can **save state** of a model\n",
        "* Can **load it later** to\n",
        "    * Make more predictions\n",
        "    * Train more\n",
        "    * Train for new problems\n",
        "    * **Transfer learning** to a new model\n",
        "    > https://towardsdatascience.com/transfer-learning-from-pre-trained-models-f2393f124751), [\\[2\\]](https://medium.com/nanonets/nanonets-how-to-use-deep-learning-when-you-have-limited-data-f68c0b512cab)"
      ]
    },
    {
      "cell_type": "markdown",
      "metadata": {
        "id": "D1-n-KwJ2KtE"
      },
      "source": [
        "## 16.6.6 Saving and Loading a Model (cont.)\n",
        "* Can store **model architecture** and **state** in a **Hierarchical Data Format (HDF5)** file for later use"
      ]
    },
    {
      "cell_type": "code",
      "execution_count": 86,
      "metadata": {
        "colab": {
          "base_uri": "https://localhost:8080/"
        },
        "id": "qh2P_VJs2KtF",
        "outputId": "e696cbd9-9027-4d1b-a5bf-1004e56605e8"
      },
      "outputs": [
        {
          "output_type": "stream",
          "name": "stderr",
          "text": [
            "/usr/local/lib/python3.10/dist-packages/keras/src/engine/training.py:3000: UserWarning: You are saving your model as an HDF5 file via `model.save()`. This file format is considered legacy. We recommend using instead the native Keras format, e.g. `model.save('my_model.keras')`.\n",
            "  saving_api.save_model(\n"
          ]
        }
      ],
      "source": [
        "cnn.save('mnist_cnn.h5')"
      ]
    },
    {
      "cell_type": "markdown",
      "metadata": {
        "id": "yIrmAea02KtF"
      },
      "source": [
        "* Load a saved model\n",
        "\n",
        ">```python\n",
        "from tensorflow.keras.models import load_model\n",
        "cnn = load_model('mnist_cnn.h5')\n",
        "```\n",
        "\n",
        "* Can then invoke its methods\n",
        "    * Could call **`predict`** to make **additional predictions on new data**\n",
        "    * Could call **`fit`** to **train with additional data**\n",
        "* [Additional functions that enable you to **save and load various aspects of your models**](https://keras.io/getting-started/faq/#how-can-i-save-a-keras-model)"
      ]
    },
    {
      "cell_type": "markdown",
      "metadata": {
        "id": "BRve_RAq2KtF"
      },
      "source": [
        "------\n",
        "&copy;1992&ndash;2020 by Pearson Education, Inc. All Rights Reserved. This content is based on Chapter 5 of the book [**Intro to Python for Computer Science and Data Science: Learning to Program with AI, Big Data and the Cloud**](https://amzn.to/2VvdnxE).\n",
        "\n",
        "DISCLAIMER: The authors and publisher of this book have used their\n",
        "best efforts in preparing the book. These efforts include the\n",
        "development, research, and testing of the theories and programs\n",
        "to determine their effectiveness. The authors and publisher make\n",
        "no warranty of any kind, expressed or implied, with regard to these\n",
        "programs or to the documentation contained in these books. The authors\n",
        "and publisher shall not be liable in any event for incidental or\n",
        "consequential damages in connection with, or arising out of, the\n",
        "furnishing, performance, or use of these programs.                  "
      ]
    }
  ],
  "metadata": {
    "celltoolbar": "Slideshow",
    "colab": {
      "provenance": [],
      "include_colab_link": true
    },
    "kernelspec": {
      "display_name": "Python 3",
      "language": "python",
      "name": "python3"
    },
    "language_info": {
      "codemirror_mode": {
        "name": "ipython",
        "version": 3
      },
      "file_extension": ".py",
      "mimetype": "text/x-python",
      "name": "python",
      "nbconvert_exporter": "python",
      "pygments_lexer": "ipython3",
      "version": "3.6.7"
    }
  },
  "nbformat": 4,
  "nbformat_minor": 0
}